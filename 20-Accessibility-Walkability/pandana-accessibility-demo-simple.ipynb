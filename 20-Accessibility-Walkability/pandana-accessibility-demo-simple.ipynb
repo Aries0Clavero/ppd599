{
 "cells": [
  {
   "cell_type": "markdown",
   "metadata": {},
   "source": [
    "# Pandana network accessibility simple demo\n",
    "\n",
    "This notebook uses [pandana](https://udst.github.io/pandana/network.html) (v0.2) to download street network and points-of-interest data from OpenStreetMap and then calculate network accessibility to the points of interest. Note: pandana currently only runs on Python 2.\n",
    "  \n",
    "For a more in-depth demo, check out [pandana-accessibility-demo-full.ipynb](pandana-accessibility-demo-full.ipynb)"
   ]
  },
  {
   "cell_type": "code",
   "execution_count": null,
   "metadata": {
    "collapsed": false,
    "jupyter": {
     "outputs_hidden": false
    }
   },
   "outputs": [],
   "source": [
    "import pandana, matplotlib.pyplot as plt\n",
    "from pandana.loaders import osm\n",
    "%matplotlib inline"
   ]
  },
  {
   "cell_type": "code",
   "execution_count": null,
   "metadata": {},
   "outputs": [],
   "source": [
    "bbox = [37.76, -122.35, 37.9, -122.17] #lat-long bounding box for berkeley/oakland\n",
    "amenity = 'pub' #accessibility to this type of amenity\n",
    "distance = 1500 #max distance in meters"
   ]
  },
  {
   "cell_type": "markdown",
   "metadata": {},
   "source": [
    "## Download points of interest (POIs) and network data from OpenStreetMap"
   ]
  },
  {
   "cell_type": "code",
   "execution_count": null,
   "metadata": {
    "collapsed": false,
    "jupyter": {
     "outputs_hidden": false
    }
   },
   "outputs": [],
   "source": [
    "# first download the points of interest corresponding to the specified amenity type\n",
    "pois = osm.node_query(bbox[0], bbox[1], bbox[2], bbox[3], tags='\"amenity\"=\"{}\"'.format(amenity))\n",
    "pois[['amenity', 'name', 'lat', 'lon']].tail()"
   ]
  },
  {
   "cell_type": "code",
   "execution_count": null,
   "metadata": {
    "collapsed": false,
    "jupyter": {
     "outputs_hidden": false
    }
   },
   "outputs": [],
   "source": [
    "# query the OSM API for the street network within the specified bounding box\n",
    "network = osm.network_from_bbox(bbox[0], bbox[1], bbox[2], bbox[3])\n",
    "\n",
    "# how many network nodes did we get for this bounding box?\n",
    "len(network.node_ids)"
   ]
  },
  {
   "cell_type": "markdown",
   "metadata": {},
   "source": [
    "## Process the network data then compute accessibility"
   ]
  },
  {
   "cell_type": "code",
   "execution_count": null,
   "metadata": {},
   "outputs": [],
   "source": [
    "# identify nodes that are connected to fewer than some threshold of other nodes within a given distance\n",
    "# do nothing with this for now, but see full example in other notebook for more\n",
    "lcn = network.low_connectivity_nodes(impedance=1000, count=10, imp_name='distance')"
   ]
  },
  {
   "cell_type": "code",
   "execution_count": null,
   "metadata": {},
   "outputs": [],
   "source": [
    "# precomputes the range queries (the reachable nodes within this maximum distance)\n",
    "# so, as long as you use a smaller distance, cached results will be used\n",
    "network.precompute(distance + 1)"
   ]
  },
  {
   "cell_type": "code",
   "execution_count": null,
   "metadata": {},
   "outputs": [],
   "source": [
    "# initialize the underlying C++ points-of-interest engine\n",
    "network.init_pois(num_categories=1, max_dist=distance, max_pois=7)"
   ]
  },
  {
   "cell_type": "code",
   "execution_count": null,
   "metadata": {},
   "outputs": [],
   "source": [
    "# initialize a category for this amenity with the locations specified by the lon and lat columns\n",
    "network.set_pois(category='my_amenity', x_col=pois['lon'], y_col=pois['lat'])"
   ]
  },
  {
   "cell_type": "code",
   "execution_count": null,
   "metadata": {
    "collapsed": false,
    "jupyter": {
     "outputs_hidden": false
    }
   },
   "outputs": [],
   "source": [
    "# search for the n nearest amenities to each node in the network\n",
    "access = network.nearest_pois(distance=distance, category='my_amenity', num_pois=7)\n",
    "\n",
    "# each df cell represents the network distance from the node to each of the n POIs\n",
    "access.head()"
   ]
  },
  {
   "cell_type": "markdown",
   "metadata": {},
   "source": [
    "## Plot the accessibility"
   ]
  },
  {
   "cell_type": "code",
   "execution_count": null,
   "metadata": {},
   "outputs": [],
   "source": [
    "# keyword arguments to pass for the matplotlib figure\n",
    "bbox_aspect_ratio = (bbox[2] - bbox[0]) / (bbox[3] - bbox[1])\n",
    "fig_kwargs = {'facecolor':'w', \n",
    "              'figsize':(10, 10 * bbox_aspect_ratio)}\n",
    "\n",
    "# keyword arguments to pass for scatter plots\n",
    "plot_kwargs = {'s':5, \n",
    "               'alpha':0.9, \n",
    "               'cmap':'viridis_r', \n",
    "               'edgecolor':'none'}"
   ]
  },
  {
   "cell_type": "code",
   "execution_count": null,
   "metadata": {
    "collapsed": false,
    "jupyter": {
     "outputs_hidden": false
    }
   },
   "outputs": [],
   "source": [
    "# plot the distance to the nth nearest amenity\n",
    "n = 1\n",
    "bmap, fig, ax = network.plot(access[n], bbox=bbox, plot_kwargs=plot_kwargs, fig_kwargs=fig_kwargs)\n",
    "ax.set_axis_bgcolor('k')\n",
    "ax.set_title('Walking distance (m) to nearest {} around Berkeley/Oakland'.format(amenity), fontsize=15)\n",
    "fig.savefig('images/accessibility-pub-east-bay.png', dpi=200, bbox_inches='tight')\n",
    "plt.show()"
   ]
  },
  {
   "cell_type": "markdown",
   "metadata": {},
   "source": [
    "For a more in-depth demo, check out [pandana-accessibility-demo-full.ipynb](pandana-accessibility-demo-full.ipynb)"
   ]
  }
 ],
 "metadata": {
  "kernelspec": {
   "display_name": "Python 3",
   "language": "python",
   "name": "python3"
  },
  "language_info": {
   "codemirror_mode": {
    "name": "ipython",
    "version": 3
   },
   "file_extension": ".py",
   "mimetype": "text/x-python",
   "name": "python",
   "nbconvert_exporter": "python",
   "pygments_lexer": "ipython3",
   "version": "3.8.6"
  }
 },
 "nbformat": 4,
 "nbformat_minor": 4
}
