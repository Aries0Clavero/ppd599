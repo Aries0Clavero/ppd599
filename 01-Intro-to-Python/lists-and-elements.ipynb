{
 "cells": [
  {
   "cell_type": "markdown",
   "metadata": {},
   "source": [
    "## List element conversion demo from class"
   ]
  },
  {
   "cell_type": "code",
   "execution_count": null,
   "metadata": {},
   "outputs": [],
   "source": [
    "# demo from class on 2015-09-02\n",
    "# objective: how do we convert a list of integer values into a list of equivalent string values?\n",
    "# in other words, how do we convert each element in a list to a different data type?\n",
    "# first, let's make a list containing the first 5 even numbers\n",
    "int_list = [2, 4, 6, 8, 10]"
   ]
  },
  {
   "cell_type": "code",
   "execution_count": null,
   "metadata": {
    "collapsed": false,
    "jupyter": {
     "outputs_hidden": false
    }
   },
   "outputs": [],
   "source": [
    "# how many elements are in our list?\n",
    "len(int_list)"
   ]
  },
  {
   "cell_type": "code",
   "execution_count": null,
   "metadata": {
    "collapsed": false,
    "jupyter": {
     "outputs_hidden": false
    }
   },
   "outputs": [],
   "source": [
    "# what is the value of the element in the zero-th position of the list?\n",
    "int_list[0]"
   ]
  },
  {
   "cell_type": "code",
   "execution_count": null,
   "metadata": {
    "collapsed": false,
    "jupyter": {
     "outputs_hidden": false
    }
   },
   "outputs": [],
   "source": [
    "# what is the data type of this element in the zero-th position?\n",
    "type(int_list[0])"
   ]
  },
  {
   "cell_type": "code",
   "execution_count": null,
   "metadata": {
    "collapsed": false,
    "jupyter": {
     "outputs_hidden": false
    }
   },
   "outputs": [],
   "source": [
    "# let's convert that element from an int to a string using the str() function\n",
    "str(int_list[0])"
   ]
  },
  {
   "cell_type": "code",
   "execution_count": null,
   "metadata": {
    "collapsed": false,
    "jupyter": {
     "outputs_hidden": false
    }
   },
   "outputs": [],
   "source": [
    "# let's check the data type that results from that str() function operating on our list element\n",
    "type(str(int_list[0]))"
   ]
  },
  {
   "cell_type": "code",
   "execution_count": null,
   "metadata": {},
   "outputs": [],
   "source": [
    "# now we'll create a new list to contain the string versions of our integers\n",
    "str_list = []"
   ]
  },
  {
   "cell_type": "code",
   "execution_count": null,
   "metadata": {},
   "outputs": [],
   "source": [
    "# now let's convert the element in the zero-th position of our int_list to a string\n",
    "# and append it to the new str_list that will contain string values\n",
    "# remember, the way to add a new element to a list is list.append()\n",
    "# we are simply appending the result of the string conversion\n",
    "str_list.append(str(int_list[0]))"
   ]
  },
  {
   "cell_type": "code",
   "execution_count": null,
   "metadata": {
    "collapsed": false,
    "jupyter": {
     "outputs_hidden": false
    }
   },
   "outputs": [],
   "source": [
    "# our str_list should have one element - the value at the zero-th position of int_list, converted to a string\n",
    "str_list"
   ]
  },
  {
   "cell_type": "code",
   "execution_count": null,
   "metadata": {},
   "outputs": [],
   "source": [
    "# looks like that worked, so let's convert and append the rest of the values\n",
    "# we know our int_list contains 5 elements from when we ran len() on it earlier\n",
    "# we've already done position 0, now let's do positions 1 - 4\n",
    "str_list.append(str(int_list[1]))\n",
    "str_list.append(str(int_list[2]))\n",
    "str_list.append(str(int_list[3]))\n",
    "str_list.append(str(int_list[4]))"
   ]
  },
  {
   "cell_type": "code",
   "execution_count": null,
   "metadata": {
    "collapsed": false,
    "jupyter": {
     "outputs_hidden": false
    }
   },
   "outputs": [],
   "source": [
    "# let's see our list of strings\n",
    "str_list"
   ]
  },
  {
   "cell_type": "code",
   "execution_count": null,
   "metadata": {
    "collapsed": false,
    "jupyter": {
     "outputs_hidden": false
    }
   },
   "outputs": [],
   "source": [
    "# and for comparison, here's our original list of integers\n",
    "int_list"
   ]
  },
  {
   "cell_type": "markdown",
   "metadata": {},
   "source": [
    "## That's all you need to know right now. Make sure you understand all the logic above. If you don't, review the Think Python book and chat with me during office hours. We're going to keep moving forward and building on this logic - so make sure you get it! The following cells show more advanced/efficient techniques. You don't need to understand them now - they're just foreshadowing what we'll learn over the coming couple of weeks."
   ]
  },
  {
   "cell_type": "code",
   "execution_count": null,
   "metadata": {
    "collapsed": false,
    "jupyter": {
     "outputs_hidden": false
    }
   },
   "outputs": [],
   "source": [
    "# what we have seen is a manual way of doing this int -> string conversion\n",
    "# the whole benefit of coding is that we automate this sort of manual work\n",
    "# over the next couple of weeks we'll learn more advanced and efficient techniques like this:\n",
    "new_list = []\n",
    "for value in int_list:\n",
    "    new_list.append(str(value))\n",
    "new_list"
   ]
  },
  {
   "cell_type": "code",
   "execution_count": null,
   "metadata": {
    "collapsed": false,
    "jupyter": {
     "outputs_hidden": false
    }
   },
   "outputs": [],
   "source": [
    "# ...and eventually we'll learn even more advanced/efficient techniques, like this:\n",
    "[ str(value) for value in int_list ]"
   ]
  },
  {
   "cell_type": "code",
   "execution_count": null,
   "metadata": {},
   "outputs": [],
   "source": []
  }
 ],
 "metadata": {
  "kernelspec": {
   "display_name": "Python 3",
   "language": "python",
   "name": "python3"
  },
  "language_info": {
   "codemirror_mode": {
    "name": "ipython",
    "version": 3
   },
   "file_extension": ".py",
   "mimetype": "text/x-python",
   "name": "python",
   "nbconvert_exporter": "python",
   "pygments_lexer": "ipython3",
   "version": "3.8.6"
  }
 },
 "nbformat": 4,
 "nbformat_minor": 4
}
