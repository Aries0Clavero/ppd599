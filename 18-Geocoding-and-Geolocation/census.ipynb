{
 "cells": [
  {
   "cell_type": "markdown",
   "metadata": {},
   "source": [
    "# Reverse-geocode lat-long to census geography\n",
    "\n",
    "Using https://geocoding.geo.census.gov/"
   ]
  },
  {
   "cell_type": "code",
   "execution_count": null,
   "metadata": {
    "collapsed": false,
    "jupyter": {
     "outputs_hidden": false
    }
   },
   "outputs": [],
   "source": [
    "import time, pandas as pd, requests"
   ]
  },
  {
   "cell_type": "markdown",
   "metadata": {},
   "source": [
    "### Define helper functions"
   ]
  },
  {
   "cell_type": "code",
   "execution_count": null,
   "metadata": {},
   "outputs": [],
   "source": [
    "def census_geocode(lon, lat, benchmark='Public_AR_Current', vintage='Current_Current',\n",
    "                   output_format='json', layers='Census Tracts'):\n",
    "    \n",
    "    url = ('https://geocoding.geo.census.gov/geocoder/geographies/coordinates?'\n",
    "           'benchmark={benchmark}&vintage={vintage}&x={lon}&y={lat}&format={output_format}&layers={layers}')\n",
    "    \n",
    "    prepared_url = url.format(benchmark=benchmark, vintage=vintage, lon=lon, lat=lat, \n",
    "                              output_format=output_format, layers=layers)\n",
    "\n",
    "    response = requests.get(prepared_url)\n",
    "    return response"
   ]
  },
  {
   "cell_type": "code",
   "execution_count": null,
   "metadata": {},
   "outputs": [],
   "source": [
    "def geocode_row(row):\n",
    "\n",
    "    response = census_geocode(lon=row['longitude'], lat=row['latitude'])\n",
    "    result = response.json()['result']\n",
    "    tract = result['geographies']['Census Tracts'][0]\n",
    "    \n",
    "    return pd.Series(tract)"
   ]
  },
  {
   "cell_type": "markdown",
   "metadata": {},
   "source": [
    "### Load the data and reverse geocode it"
   ]
  },
  {
   "cell_type": "code",
   "execution_count": null,
   "metadata": {
    "collapsed": false,
    "jupyter": {
     "outputs_hidden": false
    }
   },
   "outputs": [],
   "source": [
    "# load the dataset of rental listings\n",
    "listings = pd.read_csv('data/listings.csv')"
   ]
  },
  {
   "cell_type": "code",
   "execution_count": null,
   "metadata": {
    "collapsed": false,
    "jupyter": {
     "outputs_hidden": false
    }
   },
   "outputs": [],
   "source": [
    "# reverse geocode each listing's lat-long to tract\n",
    "tracts = listings.apply(lambda row: geocode_row(row), axis=1)"
   ]
  },
  {
   "cell_type": "code",
   "execution_count": null,
   "metadata": {
    "collapsed": false,
    "jupyter": {
     "outputs_hidden": false
    }
   },
   "outputs": [],
   "source": [
    "# look at the tracts we got back\n",
    "tracts[['GEOID', 'AREALAND', 'AREAWATER']].head()"
   ]
  },
  {
   "cell_type": "code",
   "execution_count": null,
   "metadata": {
    "collapsed": false,
    "jupyter": {
     "outputs_hidden": false
    }
   },
   "outputs": [],
   "source": [
    "# merge the listings with the tracts' geoids\n",
    "geoids = pd.DataFrame(tracts['GEOID'])\n",
    "listings_geoids = pd.concat([listings, geoids], axis=1)\n",
    "listings_geoids.head()"
   ]
  },
  {
   "cell_type": "code",
   "execution_count": null,
   "metadata": {},
   "outputs": [],
   "source": []
  }
 ],
 "metadata": {
  "anaconda-cloud": {},
  "kernelspec": {
   "display_name": "Python 3",
   "language": "python",
   "name": "python3"
  },
  "language_info": {
   "codemirror_mode": {
    "name": "ipython",
    "version": 3
   },
   "file_extension": ".py",
   "mimetype": "text/x-python",
   "name": "python",
   "nbconvert_exporter": "python",
   "pygments_lexer": "ipython3",
   "version": "3.8.6"
  }
 },
 "nbformat": 4,
 "nbformat_minor": 4
}
