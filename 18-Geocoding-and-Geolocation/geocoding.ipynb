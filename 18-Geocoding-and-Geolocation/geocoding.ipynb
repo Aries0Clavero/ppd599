{
 "cells": [
  {
   "cell_type": "markdown",
   "metadata": {},
   "source": [
    "# Geocoding with Python\n",
    "\n",
    "Agenda:\n",
    "- Geocoding addresses to latitude/longitude\n",
    "- Exploring locations with the Google Places API\n",
    "- Reverse geocoding latitude/longitude to an address\n",
    "- Reverse geocoding latitude/longitude to block FIPS code\n",
    "\n",
    "**You'll need a Google API key to use the Google Maps Geocoding API and the Google Places API Web Service:**\n",
    "1. Go to https://console.developers.google.com/project and sign in\n",
    "1. Create a new project and call it cp255, then click create\n",
    "1. On the screen with all the APIs listed, click \"Google Places API Web Service\" under Google Maps APIs, then click the Enable API button\n",
    "1. Go to Credentials and click create credentials, choose API Key\n",
    "1. Copy your API key when it is displayed, then create keys.py with the line `google_maps_api_key='YOUR-KEY-HERE'`"
   ]
  },
  {
   "cell_type": "code",
   "execution_count": null,
   "metadata": {},
   "outputs": [],
   "source": [
    "import pandas as pd, requests, time\n",
    "from geopy.geocoders import GoogleV3\n",
    "\n",
    "# import my api key saved in a local file i called keys.py\n",
    "from keys import google_maps_api_key"
   ]
  },
  {
   "cell_type": "code",
   "execution_count": null,
   "metadata": {
    "collapsed": false,
    "jupyter": {
     "outputs_hidden": false
    }
   },
   "outputs": [],
   "source": [
    "# set the pause duration between api requests\n",
    "pause = 0.1"
   ]
  },
  {
   "cell_type": "markdown",
   "metadata": {},
   "source": [
    "## Part 1: Geocoding addresses to lat-long\n",
    "\n",
    "We will use the Google Maps geocoding API. You don't need an API key for this.\n",
    "- Documentation: https://developers.google.com/maps/documentation/geocoding/intro\n",
    "- Example request: http://maps.googleapis.com/maps/api/geocode/json?address=350+5th+Ave,+New+York,+NY+10118&sensor=false"
   ]
  },
  {
   "cell_type": "code",
   "execution_count": null,
   "metadata": {
    "collapsed": false,
    "jupyter": {
     "outputs_hidden": false
    }
   },
   "outputs": [],
   "source": [
    "locations = pd.DataFrame()\n",
    "locations['address'] = ['350 5th Ave, New York, NY 10118',\n",
    "                        '100 Larkin St, San Francisco, CA 94102',\n",
    "                        'Wurster Hall, Berkeley, CA']\n",
    "locations"
   ]
  },
  {
   "cell_type": "code",
   "execution_count": null,
   "metadata": {
    "collapsed": false,
    "jupyter": {
     "outputs_hidden": false
    }
   },
   "outputs": [],
   "source": [
    "# function that accepts an address string, sends it to the Google API, and returns the lat-long API result\n",
    "def geocode(address):\n",
    "    time.sleep(pause) #pause for some duration before each request, to not hammer their server\n",
    "    url = 'http://maps.googleapis.com/maps/api/geocode/json?address={}&sensor=false' #api url with placeholders\n",
    "    request = url.format(address) #fill in the placeholder with a variable\n",
    "    response = requests.get(request) #send the request to the server and get the response\n",
    "    data = response.json() #convert the response json string into a dict\n",
    "    \n",
    "    if len(data['results']) > 0: #if google was able to geolocate our address, extract lat-long from result\n",
    "        latitude = data['results'][0]['geometry']['location']['lat']\n",
    "        longitude = data['results'][0]['geometry']['location']['lng']\n",
    "        return '{},{}'.format(latitude, longitude) #return lat-long as a string in the format google likes"
   ]
  },
  {
   "cell_type": "code",
   "execution_count": null,
   "metadata": {
    "collapsed": false,
    "jupyter": {
     "outputs_hidden": false
    }
   },
   "outputs": [],
   "source": [
    "# for each value in the address column, geocode it, save results as new df column\n",
    "locations['latlng'] = locations['address'].map(geocode)\n",
    "locations"
   ]
  },
  {
   "cell_type": "code",
   "execution_count": null,
   "metadata": {
    "collapsed": false,
    "jupyter": {
     "outputs_hidden": false
    }
   },
   "outputs": [],
   "source": [
    "# parse the result into separate lat and lon columns for easy mapping\n",
    "locations['latitude'] = locations['latlng'].map(lambda x: x.split(',')[0])\n",
    "locations['longitude'] = locations['latlng'].map(lambda x: x.split(',')[1])\n",
    "locations"
   ]
  },
  {
   "cell_type": "markdown",
   "metadata": {},
   "source": [
    "## Part 2: Google Places API\n",
    "\n",
    "We will use Google's Places API to look up places in the vicinity of some location. You need an API key for this.\n",
    "- Documentation: https://developers.google.com/places/\n",
    "- Example request: https://maps.googleapis.com/maps/api/place/search/json?keyword=coffee&location=37.8683811,-122.2589063&radius=1000&sensor=false&key=YOUR-KEY-HERE"
   ]
  },
  {
   "cell_type": "code",
   "execution_count": null,
   "metadata": {
    "collapsed": false,
    "jupyter": {
     "outputs_hidden": false
    }
   },
   "outputs": [],
   "source": [
    "# google places api url, with placeholders\n",
    "url = 'https://maps.googleapis.com/maps/api/place/search/json?keyword={}&location={}&radius={}&key={}&sensor=false'\n",
    "\n",
    "# what keyword to search for\n",
    "keyword = 'restaurant'\n",
    "\n",
    "# define the radius (in meters) for the search\n",
    "radius = 1000\n",
    "\n",
    "# define the location coordinates (of wurster hall)\n",
    "location = locations.loc[2, 'latlng']\n",
    "location"
   ]
  },
  {
   "cell_type": "code",
   "execution_count": null,
   "metadata": {
    "collapsed": false,
    "jupyter": {
     "outputs_hidden": false
    }
   },
   "outputs": [],
   "source": [
    "# add our variables into the url, submit the request to the api, and load the response\n",
    "request = url.format(keyword, location, radius, google_maps_api_key)\n",
    "response = requests.get(request)\n",
    "data = response.json()"
   ]
  },
  {
   "cell_type": "code",
   "execution_count": null,
   "metadata": {
    "collapsed": false,
    "jupyter": {
     "outputs_hidden": false
    }
   },
   "outputs": [],
   "source": [
    "places = pd.DataFrame(data['results'])\n",
    "places = places[['name', 'geometry', 'rating', 'vicinity']]\n",
    "places.head()"
   ]
  },
  {
   "cell_type": "code",
   "execution_count": null,
   "metadata": {
    "collapsed": false,
    "jupyter": {
     "outputs_hidden": false
    }
   },
   "outputs": [],
   "source": [
    "# parse out lat-long and return it as a series -> this creates a dataframe of all the results when you .apply()\n",
    "def parse_coords(geometry):\n",
    "    if isinstance(geometry, dict):\n",
    "        lng = geometry['location']['lng']\n",
    "        lat = geometry['location']['lat']\n",
    "        return pd.Series({'latitude':lat, 'longitude':lng})\n",
    "    \n",
    "# test our function\n",
    "places['geometry'].head().apply(parse_coords)"
   ]
  },
  {
   "cell_type": "code",
   "execution_count": null,
   "metadata": {
    "collapsed": false,
    "jupyter": {
     "outputs_hidden": false
    }
   },
   "outputs": [],
   "source": [
    "# now run our function on the whole dataframe and SAVE THE OUTPUT to 2 new dataframe columns\n",
    "places[['latitude', 'longitude']] = places['geometry'].apply(parse_coords)\n",
    "places_clean = places.drop('geometry', axis=1)\n",
    "places_clean.sort_values(by='rating', ascending=False).head()"
   ]
  },
  {
   "cell_type": "markdown",
   "metadata": {},
   "source": [
    "## Part 3: Reverse geocoding (address lookup)\n",
    "\n",
    "We'll use Google's reverse geocoding API.\n",
    "- Documentation: https://developers.google.com/maps/documentation/geocoding/intro#ReverseGeocoding\n",
    "- Example request: https://maps.googleapis.com/maps/api/geocode/json?latlng=34.537094,-82.630303\n",
    "\n",
    "You can do this manually, just like in the previous two sections, but it's a little more complicated to parse Google's address components results. If we just want addresses, we can use [geopy](https://geopy.readthedocs.org/en/release-0.96.3/#geopy.geocoders.GoogleV3) to simply call Google's API automatically for us."
   ]
  },
  {
   "cell_type": "code",
   "execution_count": null,
   "metadata": {
    "collapsed": false,
    "jupyter": {
     "outputs_hidden": false
    }
   },
   "outputs": [],
   "source": [
    "# load usa point data and keep only the first 5 rows\n",
    "usa = pd.read_csv('data/usa-latlong.csv')\n",
    "usa = usa.head()\n",
    "usa"
   ]
  },
  {
   "cell_type": "code",
   "execution_count": null,
   "metadata": {
    "collapsed": false,
    "jupyter": {
     "outputs_hidden": false
    }
   },
   "outputs": [],
   "source": [
    "# create a column to put lat-long into the format google likes - this just makes it easier to call their API\n",
    "usa['latlng'] = usa.apply(lambda row: '{},{}'.format(row['latitude'], row['longitude']), axis=1)\n",
    "usa"
   ]
  },
  {
   "cell_type": "code",
   "execution_count": null,
   "metadata": {
    "collapsed": false,
    "jupyter": {
     "outputs_hidden": false
    }
   },
   "outputs": [],
   "source": [
    "# tell geopy to reverse geocode some lat-long string using Google's API and return the address\n",
    "def reverse_geopy(latlng):\n",
    "    time.sleep(pause)\n",
    "    geolocator = GoogleV3()\n",
    "    address, _ = geolocator.reverse(latlng, exactly_one=True)\n",
    "    return address\n",
    "\n",
    "usa['address'] = usa['latlng'].map(reverse_geopy)\n",
    "usa"
   ]
  },
  {
   "cell_type": "markdown",
   "metadata": {},
   "source": [
    "#### What if you just want the city or state?\n",
    "You could try to parse the address strings, but you're relying on them always having a consistent format. This might not be the case if you have international location data. In this case, you should call the API manually and extract the individual address components you are interested in."
   ]
  },
  {
   "cell_type": "code",
   "execution_count": null,
   "metadata": {
    "collapsed": false,
    "jupyter": {
     "outputs_hidden": false
    }
   },
   "outputs": [],
   "source": [
    "# pass the Google API latlng data to reverse geocode it\n",
    "def reverse_geocode(latlng):\n",
    "    time.sleep(pause)\n",
    "    url = 'https://maps.googleapis.com/maps/api/geocode/json?latlng={}'\n",
    "    request = url.format(latlng)\n",
    "    response = requests.get(request)\n",
    "    data = response.json()\n",
    "    if len(data['results']) > 0:\n",
    "        return data['results'][0] #if we got results, return the first result\n",
    "    \n",
    "geocode_results = usa['latlng'].map(reverse_geocode)"
   ]
  },
  {
   "cell_type": "markdown",
   "metadata": {},
   "source": [
    "Now look inside each reverse geocode result to see if address_components exists. If it does, look inside each component to see if we can find the city or the state. Google calls the city name by the abstract term 'locality' and the state name by the abstract term 'administrative_area_level_1' ...this just lets them use the same terminology anywhere in the world."
   ]
  },
  {
   "cell_type": "code",
   "execution_count": null,
   "metadata": {
    "collapsed": false,
    "jupyter": {
     "outputs_hidden": false
    }
   },
   "outputs": [],
   "source": [
    "def get_city(geocode_result):\n",
    "     if 'address_components' in geocode_result:\n",
    "        for address_component in geocode_result['address_components']:\n",
    "            if 'locality' in address_component['types']:\n",
    "                return address_component['long_name']\n",
    "                \n",
    "def get_state(geocode_result):\n",
    "     if 'address_components' in geocode_result:\n",
    "        for address_component in geocode_result['address_components']:\n",
    "            if 'administrative_area_level_1' in address_component['types']:\n",
    "                return address_component['long_name']"
   ]
  },
  {
   "cell_type": "code",
   "execution_count": null,
   "metadata": {
    "collapsed": false,
    "jupyter": {
     "outputs_hidden": false
    }
   },
   "outputs": [],
   "source": [
    "# now map our functions to extract city and state names\n",
    "usa['city'] = geocode_results.map(get_city)                \n",
    "usa['state'] = geocode_results.map(get_state)\n",
    "usa"
   ]
  },
  {
   "cell_type": "markdown",
   "metadata": {},
   "source": [
    "## Part 4: Reverse geocoding to FIPS\n",
    "\n",
    "We'll use the FCC's (very slow) Census Block Conversions API to turn lat/long into a block FIPS code. FIPS codes contain from left to right: the location's 2-digit state code, 3-digit county code, 6-digit census tract code, and 4-digit census block code (the first digit of which is the census block group code). Now you can join your data to tract (etc) level census data without doing a spatial join.\n",
    "\n",
    "- Documentation: https://www.fcc.gov/developers/census-block-conversions-api\n",
    "- Example request: http://data.fcc.gov/api/block/find?format=json&latitude=37.861055&longitude=-122.256463"
   ]
  },
  {
   "cell_type": "code",
   "execution_count": null,
   "metadata": {},
   "outputs": [],
   "source": [
    "# pass the FCC API lat/long and get FIPS data back - return block fips and county name\n",
    "def get_fips(row):\n",
    "    time.sleep(pause)\n",
    "    url = 'http://data.fcc.gov/api/block/find?format=json&latitude={}&longitude={}'\n",
    "    request = url.format(row['latitude'], row['longitude'])\n",
    "    response = requests.get(request)\n",
    "    data = response.json()\n",
    "    \n",
    "    # return multiple values as a series - this will create a dataframe with multiple columns\n",
    "    return pd.Series({'fips_code':data['Block']['FIPS'], 'county':data['County']['name']})"
   ]
  },
  {
   "cell_type": "code",
   "execution_count": null,
   "metadata": {
    "collapsed": false,
    "jupyter": {
     "outputs_hidden": false
    }
   },
   "outputs": [],
   "source": [
    "# get block fips code and county name from FCC as new dataframe, then concatenate to join them\n",
    "fips = usa.apply(get_fips, axis=1)\n",
    "usa = pd.concat([usa, fips], axis=1)\n",
    "usa"
   ]
  },
  {
   "cell_type": "code",
   "execution_count": null,
   "metadata": {},
   "outputs": [],
   "source": []
  }
 ],
 "metadata": {
  "anaconda-cloud": {},
  "kernelspec": {
   "display_name": "Python 3",
   "language": "python",
   "name": "python3"
  },
  "language_info": {
   "codemirror_mode": {
    "name": "ipython",
    "version": 3
   },
   "file_extension": ".py",
   "mimetype": "text/x-python",
   "name": "python",
   "nbconvert_exporter": "python",
   "pygments_lexer": "ipython3",
   "version": "3.8.6"
  }
 },
 "nbformat": 4,
 "nbformat_minor": 4
}
