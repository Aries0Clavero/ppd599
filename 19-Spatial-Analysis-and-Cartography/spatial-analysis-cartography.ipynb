{
 "cells": [
  {
   "cell_type": "markdown",
   "metadata": {},
   "source": [
    "# Python Spatial Analysis and Mapping\n",
    "\n",
    "Agenda:\n",
    "- python spatial analysis with geopandas\n",
    "- projecting lat-long spatial data and shapefiles\n",
    "- mapping with basemaps"
   ]
  },
  {
   "cell_type": "markdown",
   "metadata": {},
   "source": [
    "### Quick overview of mapping and projections\n",
    "\n",
    "##### Some terminology:\n",
    "- **geoid**: (that's *gee-oid*) the surface of the earth's gravity field, which approximates mean sea level\n",
    "- **spheroid** or **ellipsoid** (interchangeable terms): a model that smoothly approximates the geoid\n",
    "- **datum**: based on spheroid but incorporates local variations in the shape of the Earth. Used to describe a point on the Earth's surface, such as in latitude and longitude.\n",
    "  - NAD83 (North American Datum 1983) uses the GRS80 spheroid\n",
    "  - WGS84 (World Geodetic Survey 1984 datum) uses the WGS84 spheroid\n",
    "  - The latitude and longitude coordinates of some point differ slightly based on the datum. GPS uses WGS84.\n",
    "- **coordinate reference system** (CRS) or spatial reference system (SRS): a series of parameters that [define](http://spatialreference.org/) the coordinate system and spatial extent (aka, domain) of some dataset.\n",
    "- **geographic coordinate system** (GCS): specifies a datum, spheroid, units of measure (such as meters), and a prime meridian\n",
    "- **projected coordinate system** or map projection: projects a map of the Earth's 3-D spherical surface onto a flat surface that can be measured in units like meters. Here's a [list of projections](http://www.remotesensing.org/geotiff/proj_list/).\n",
    "- **eastings** and **northings**: the x and y coordinates of a projected map, usually measured in meters\n",
    "- **false origin**: the 0,0 origin point from which eastings and northings are measured on the map, usually the lower left corner rather than the center\n",
    "- **PROJ.4**: a library to convert/project spatial data with consistent CRS [parameter names](https://github.com/OSGeo/proj.4/wiki/GenParms)\n",
    "\n",
    "##### Common CRS parameters (and their PROJ.4 names):\n",
    "- datum (datum)\n",
    "- ellipse (ellps)\n",
    "- projection (proj)\n",
    "  - the name of the projected coordinate system, such as Albers Equal Area (aea) or Lambert Conformal Conic (lcc)\n",
    "- standard parallels (lat_1, lat_2)\n",
    "  - where the projection surface touches the globe - at the standard parallels, the projection shows no distortion\n",
    "- central meridian and latitude of origin (lon_0, lat_0)\n",
    "  - the origin of the projection's x and y coordinates (eastings and northings) - usually the center of the map projection\n",
    "- false easting and false northing (x_0, y_0)\n",
    "  - offsets to add to all your eastings and northings - usually used to make all the coordinates on the map positive numbers by starting 0,0 at the lower left corner rather than the center of the map (see false origin, above)\n",
    "\n",
    "##### Common projection types:\n",
    "- *equal area* projections: maintain area at the expense of shape, distance, and direction - such as the [Albers Equal Area](http://www.remotesensing.org/geotiff/proj_list/albers_equal_area_conic.html) projection\n",
    "- *conformal* projections: maintain shapes at the expense of area, distance, and direction - such as the [Lambert Conformal Conic](http://www.remotesensing.org/geotiff/proj_list/lambert_conic_conformal_2sp.html) projection\n",
    "- *equidistant* projections: preserve distance from one point or along all meridians and parallels\n",
    "- *azimuthal* projections: maintain direction from one point to all other points - such as an [orthographic](http://www.remotesensing.org/geotiff/proj_list/orthographic.html) projection\n",
    "- others compromise to minimize overall distortion or aim for aesthetic value - such as the [Robinson](https://upload.wikimedia.org/wikipedia/commons/9/96/Robinson_projection_SW.jpg) projection"
   ]
  },
  {
   "cell_type": "code",
   "execution_count": null,
   "metadata": {},
   "outputs": [],
   "source": [
    "# magic command to display matplotlib plots inline within the ipython notebook\n",
    "%matplotlib inline\n",
    "\n",
    "# import necessary modules\n",
    "import pandas as pd, numpy as np, matplotlib.pyplot as plt\n",
    "from geopandas import GeoDataFrame\n",
    "from mpl_toolkits.basemap import Basemap\n",
    "from shapely.geometry import Point\n",
    "from geopy.distance import great_circle"
   ]
  },
  {
   "cell_type": "markdown",
   "metadata": {},
   "source": [
    "## Part 1: spatial analysis\n",
    "We'll use [geopandas](http://geopandas.org/user.html), which spatializes pandas dataframes. "
   ]
  },
  {
   "cell_type": "code",
   "execution_count": null,
   "metadata": {
    "collapsed": false,
    "jupyter": {
     "outputs_hidden": false
    }
   },
   "outputs": [],
   "source": [
    "# load usa point data and convert to geodataframe\n",
    "df = pd.read_csv('data/usa-latlong.csv')\n",
    "usa_points = GeoDataFrame(df)\n",
    "usa_points.head()"
   ]
  },
  {
   "cell_type": "code",
   "execution_count": null,
   "metadata": {
    "collapsed": false,
    "jupyter": {
     "outputs_hidden": false
    }
   },
   "outputs": [],
   "source": [
    "# measure distance between the first two points in the dataset using geopy's great_circle function\n",
    "# notice the points are represented as (lat, long) to do the distance calculation\n",
    "point0 = usa_points.loc[0, 'latitude'], usa_points.loc[0, 'longitude']\n",
    "point1 = usa_points.loc[1, 'latitude'], usa_points.loc[1, 'longitude']\n",
    "great_circle(point0, point1).miles"
   ]
  },
  {
   "cell_type": "code",
   "execution_count": null,
   "metadata": {
    "collapsed": false,
    "jupyter": {
     "outputs_hidden": false
    }
   },
   "outputs": [],
   "source": [
    "# how far is each row from wurster hall?\n",
    "def get_distance(row):\n",
    "    wurster_hall = 37.870575, -122.254731\n",
    "    distance = great_circle(wurster_hall, (row['latitude'], row['longitude'])).miles\n",
    "    return round(distance, 2)\n",
    "\n",
    "usa_points['miles_from_wurster'] = usa_points.apply(get_distance, axis=1)\n",
    "usa_points.head()"
   ]
  },
  {
   "cell_type": "code",
   "execution_count": null,
   "metadata": {
    "collapsed": false,
    "jupyter": {
     "outputs_hidden": false
    }
   },
   "outputs": [],
   "source": [
    "# create a geometry column in our point dataset to contain shapely geometry for geopandas to use\n",
    "# notice the points are represented as long, lat so that they are equivalent to x, y\n",
    "usa_points['geometry'] = usa_points.apply(lambda row: Point(row['longitude'], row['latitude']), axis=1)\n",
    "usa_points.head()"
   ]
  },
  {
   "cell_type": "code",
   "execution_count": null,
   "metadata": {
    "collapsed": false,
    "jupyter": {
     "outputs_hidden": false
    }
   },
   "outputs": [],
   "source": [
    "# load the states shapefile as a geodataframe\n",
    "states = GeoDataFrame.from_file('data/states_21basic/states.shp')\n",
    "states.head()"
   ]
  },
  {
   "cell_type": "code",
   "execution_count": null,
   "metadata": {
    "collapsed": false,
    "jupyter": {
     "outputs_hidden": false
    }
   },
   "outputs": [],
   "source": [
    "# what's in our shapefile?\n",
    "print(len(states))\n",
    "states['STATE_NAME'].unique()"
   ]
  },
  {
   "cell_type": "code",
   "execution_count": null,
   "metadata": {
    "collapsed": false,
    "jupyter": {
     "outputs_hidden": false
    }
   },
   "outputs": [],
   "source": [
    "# get those states that intersect with the point data\n",
    "# use geopandas unary_union attribute to get a single geometry object representing all the points\n",
    "mask = states['geometry'].intersects(usa_points['geometry'].unary_union)\n",
    "states_with_points = states[mask]\n",
    "\n",
    "len(states_with_points)"
   ]
  },
  {
   "cell_type": "code",
   "execution_count": null,
   "metadata": {
    "collapsed": false,
    "jupyter": {
     "outputs_hidden": false
    }
   },
   "outputs": [],
   "source": [
    "# which states didn't have any point data?\n",
    "states[~mask]['STATE_NAME']"
   ]
  },
  {
   "cell_type": "code",
   "execution_count": null,
   "metadata": {
    "collapsed": false,
    "jupyter": {
     "outputs_hidden": false
    }
   },
   "outputs": [],
   "source": [
    "# get the geometry of the state with name california, as a geoseries of one element\n",
    "california = states[states['STATE_NAME']=='California']['geometry']\n",
    "\n",
    "# use iloc to extract the value from a geoseries of one element, to a shapely polygon\n",
    "california_polygon = california.iloc[0]\n",
    "california_polygon"
   ]
  },
  {
   "cell_type": "code",
   "execution_count": null,
   "metadata": {
    "collapsed": false,
    "jupyter": {
     "outputs_hidden": false
    }
   },
   "outputs": [],
   "source": [
    "# another example: remove any point data that lies within Alaska or Hawaii\n",
    "# first grab the polygons from these states' geoseries using iloc\n",
    "alaska_polygon = states[states['STATE_NAME']=='Alaska']['geometry'].iloc[0]\n",
    "hawaii_polygon = states[states['STATE_NAME']=='Hawaii']['geometry'].iloc[0]\n",
    "\n",
    "# now use a mask to select all points *not* within either state's polygon\n",
    "alaska_hawaii_mask = usa_points.within(alaska_polygon) | usa_points.within(hawaii_polygon)\n",
    "usa_points = usa_points[~alaska_hawaii_mask]"
   ]
  },
  {
   "cell_type": "code",
   "execution_count": null,
   "metadata": {
    "collapsed": false,
    "jupyter": {
     "outputs_hidden": false
    }
   },
   "outputs": [],
   "source": [
    "# visual example of selecting points geographically: which points are in california?\n",
    "california_points = usa_points[usa_points.within(california_polygon)]\n",
    "\n",
    "# plot california geoseries and the geoseries of points within california polygon\n",
    "california.plot()\n",
    "california_points.plot()"
   ]
  },
  {
   "cell_type": "code",
   "execution_count": null,
   "metadata": {
    "collapsed": false,
    "jupyter": {
     "outputs_hidden": false
    }
   },
   "outputs": [],
   "source": [
    "# you can easily calculate buffers (and then perform intersections with them)\n",
    "california.plot()\n",
    "california_points.buffer(0.5).plot()"
   ]
  },
  {
   "cell_type": "markdown",
   "metadata": {},
   "source": [
    "But these buffers are kind of weird because the data is not projected - it's all in lat-long degrees. Let's project it."
   ]
  },
  {
   "cell_type": "markdown",
   "metadata": {},
   "source": [
    "## Part 2: projecting spatial data"
   ]
  },
  {
   "cell_type": "markdown",
   "metadata": {},
   "source": [
    "Let's define a projection we can use to convert and map our lat-long data. The parameters in the following dictionaries correspond to the projection parameters from PROJ4. Geopandas uses the pyproj library to convert spatial data, which in turn uses PROJ4 projection names and parameters.\n",
    "\n",
    "You can figure out these parameter values either by approximating the lats and longs of your spatial data set, or by trial and error, or by looking up a reference like [this one](http://spatialreference.org/ref/epsg/26911/) for UTM zone 11. \n",
    "\n",
    "Geopandas needs your projection to be specified in a dict - you can create one manually, or use the function below to convert a PROJ4 string to a dict."
   ]
  },
  {
   "cell_type": "code",
   "execution_count": null,
   "metadata": {
    "collapsed": false,
    "jupyter": {
     "outputs_hidden": false
    }
   },
   "outputs": [],
   "source": [
    "# option 1: specify your projections manually as python dicts\n",
    "# we'll map with UTM zone 11 which is good for California - this is a projected coordinate system\n",
    "utm_11 = {'datum':'NAD83',\n",
    "          'ellps':'GRS80',\n",
    "          'proj':'utm',\n",
    "          'zone':11,\n",
    "          'units':'m'}"
   ]
  },
  {
   "cell_type": "code",
   "execution_count": null,
   "metadata": {
    "collapsed": false,
    "jupyter": {
     "outputs_hidden": false
    }
   },
   "outputs": [],
   "source": [
    "# option 2: pass an existing proj4 string to this function and it'll turn it into a python dict\n",
    "def proj4_to_dict(proj4string):\n",
    "    params_dict = {}\n",
    "    proj4string = proj4string.strip('+') #strip preceding +\n",
    "    for param_pair in proj4string.split(' +'): #break string into tokens\n",
    "        key_value = param_pair.split('=') #break token by parameter=value\n",
    "        if len(key_value)==2: #if there aren't 2 pieces (param and value), ignore it\n",
    "            key, value = tuple(key_value)\n",
    "        params_dict[key] = value\n",
    "    return params_dict"
   ]
  },
  {
   "cell_type": "code",
   "execution_count": null,
   "metadata": {
    "collapsed": false,
    "jupyter": {
     "outputs_hidden": false
    }
   },
   "outputs": [],
   "source": [
    "# test the function out\n",
    "proj4 = '+proj=utm +zone=11 +ellps=GRS80 +datum=NAD83 +units=m +no_defs'\n",
    "utm_11 = proj4_to_dict(proj4)\n",
    "utm_11"
   ]
  },
  {
   "cell_type": "code",
   "execution_count": null,
   "metadata": {},
   "outputs": [],
   "source": [
    "# you must specify the geodataframe's original CRS (if it doesn't already have one) so geopandas knows how to project it\n",
    "# the GPS data is lat-long and its datum/ellipsoid is WGS84 - this is a geographic coordinate system\n",
    "original_crs = {'datum':'WGS84', 'ellps':'WGS84', 'proj':'latlong'}\n",
    "california_points.crs = original_crs"
   ]
  },
  {
   "cell_type": "code",
   "execution_count": null,
   "metadata": {
    "collapsed": false,
    "jupyter": {
     "outputs_hidden": false
    }
   },
   "outputs": [],
   "source": [
    "# the california shapefile already has an original CRS so we don't need to specify it - just project and plot it\n",
    "california = california.to_crs(utm_11)\n",
    "california.plot()\n",
    "\n",
    "# now project the point data to the projected coordinate system, draw buffers, and plot it\n",
    "california_points = california_points.to_crs(utm_11)\n",
    "california_points.buffer(30000).plot()"
   ]
  },
  {
   "cell_type": "markdown",
   "metadata": {},
   "source": [
    "So that's our projected data and shapefile. Notice how the shape has changed, and how the units make more sense - they are in meters now. So our buffers are a 30km radius from each point.\n",
    "\n",
    "It's also easy to save a geodataframe as a shapefile or as a geojson string (for easy leaflet mapping):"
   ]
  },
  {
   "cell_type": "code",
   "execution_count": null,
   "metadata": {
    "collapsed": false,
    "jupyter": {
     "outputs_hidden": false
    }
   },
   "outputs": [],
   "source": [
    "# save projected shapefile\n",
    "california.to_file('data/ca_utm_11/', driver='ESRI Shapefile')\n",
    "\n",
    "# convert un-projected point data and shapefile to geojson strings (you can then copy/paste these or save them to a file)\n",
    "points_geojson = usa_points.to_json()\n",
    "states_geojson = states.to_json()"
   ]
  },
  {
   "cell_type": "markdown",
   "metadata": {},
   "source": [
    "Now let's project our entire USA points data to a projection appropriate for the entire USA. We'll specify the datum, ellipsoid, projection name, standard parallels, central meridian and latitude of origin, false easting and false northing (because matplotlib basemap sticks the origin at the lower left corner), and measurement units. "
   ]
  },
  {
   "cell_type": "code",
   "execution_count": null,
   "metadata": {
    "collapsed": false,
    "jupyter": {
     "outputs_hidden": false
    }
   },
   "outputs": [],
   "source": [
    "# set our usa_points dataset's original CRS\n",
    "usa_points.crs = original_crs\n",
    "usa_points.head()"
   ]
  },
  {
   "cell_type": "code",
   "execution_count": null,
   "metadata": {},
   "outputs": [],
   "source": [
    "# specify the width and height of the map extent/domain in projection coordinate units (meters) - approx USA dimensions\n",
    "map_width_m = 5000 * 1000 #5000 km\n",
    "map_height_m = 3500 * 1000 #3500 km"
   ]
  },
  {
   "cell_type": "code",
   "execution_count": null,
   "metadata": {
    "collapsed": false,
    "jupyter": {
     "outputs_hidden": false
    }
   },
   "outputs": [],
   "source": [
    "# Albers Conical Equal Area projection for USA\n",
    "albers_usa = {'datum':'NAD83',\n",
    "              'ellps':'GRS80',\n",
    "              'proj':'aea', \n",
    "              'lat_1':33, \n",
    "              'lat_2':45, \n",
    "              'lon_0':-97, \n",
    "              'lat_0':39, \n",
    "              'x_0':map_width_m/2, \n",
    "              'y_0':map_height_m/2,\n",
    "              'units':'m'}"
   ]
  },
  {
   "cell_type": "code",
   "execution_count": null,
   "metadata": {
    "collapsed": false,
    "jupyter": {
     "outputs_hidden": false
    }
   },
   "outputs": [],
   "source": [
    "# now you can convert the point data to a projected CRS\n",
    "target_crs = albers_usa\n",
    "usa_points = usa_points.to_crs(target_crs)\n",
    "usa_points.head()"
   ]
  },
  {
   "cell_type": "code",
   "execution_count": null,
   "metadata": {
    "collapsed": false,
    "jupyter": {
     "outputs_hidden": false
    }
   },
   "outputs": [],
   "source": [
    "# convert the projected points into discrete x and y columns for easy matplotlib scatter-plotting\n",
    "usa_points['x'] = usa_points['geometry'].map(lambda point: point.x)\n",
    "usa_points['y'] = usa_points['geometry'].map(lambda point: point.y)\n",
    "usa_points.head()"
   ]
  },
  {
   "cell_type": "code",
   "execution_count": null,
   "metadata": {
    "collapsed": false,
    "jupyter": {
     "outputs_hidden": false
    }
   },
   "outputs": [],
   "source": [
    "# scatter plot un-projected and projected point data side by side\n",
    "fig, ax = plt.subplots(1, 2, figsize=[15,4])\n",
    "ax[0].scatter(x=usa_points['longitude'], y=usa_points['latitude'], c='g', edgecolor='None', alpha=0.4)\n",
    "ax[1].scatter(x=usa_points['x'], y=usa_points['y'], c='b', edgecolor='None', alpha=0.2)\n",
    "plt.show()"
   ]
  },
  {
   "cell_type": "markdown",
   "metadata": {},
   "source": [
    "Unprojected lat-long data (left) and projected data (right). The origin on the right is 0,0 like we'd expect for our false origin. Now let's make it look nice, with matplotlib basemap."
   ]
  },
  {
   "cell_type": "markdown",
   "metadata": {},
   "source": [
    "# Part 3: basemaps\n",
    "\n",
    "We'll use the matplotlib basemap toolkit\n",
    "\n",
    "- User's guide and installation instructions: http://matplotlib.org/basemap/\n",
    "- Documentation: http://matplotlib.org/basemap/api/basemap_api.html\n",
    "- You can find color codes from a site like this: http://html-color-codes.info/"
   ]
  },
  {
   "cell_type": "code",
   "execution_count": null,
   "metadata": {},
   "outputs": [],
   "source": [
    "# define basemap colors\n",
    "land_color = '#F6F6F6'\n",
    "water_color = '#D2F5FF'\n",
    "coastline_color = '#333333'\n",
    "border_color = '#999999'"
   ]
  },
  {
   "cell_type": "code",
   "execution_count": null,
   "metadata": {
    "collapsed": false,
    "jupyter": {
     "outputs_hidden": false
    }
   },
   "outputs": [],
   "source": [
    "plt.figure(figsize=[10,7]) #same ratio as map_width_m:map_height_m so we don't stretch it\n",
    "\n",
    "m = Basemap(ellps=target_crs['ellps'],\n",
    "            projection=target_crs['proj'],\n",
    "            lat_1=target_crs['lat_1'], \n",
    "            lat_2=target_crs['lat_2'], \n",
    "            lon_0=target_crs['lon_0'], \n",
    "            lat_0=target_crs['lat_0'],\n",
    "            width=map_width_m, \n",
    "            height=map_height_m,\n",
    "            resolution='l', #l means low resolution boundaries\n",
    "            area_thresh=10000) #coastline or lake with an area smaller than this km^2 will not be plotted\n",
    "\n",
    "m.drawcoastlines(color=coastline_color)\n",
    "m.drawcountries(color=border_color)\n",
    "m.fillcontinents(color=land_color, lake_color=water_color)\n",
    "m.drawstates(color=border_color)\n",
    "m.drawmapboundary(fill_color=water_color)\n",
    "\n",
    "m.scatter(x=usa_points['x'], y=usa_points['y'], s=80, color='r', edgecolor='#333333', alpha=0.4, zorder=10)\n",
    "\n",
    "plt.show()"
   ]
  },
  {
   "cell_type": "code",
   "execution_count": null,
   "metadata": {
    "collapsed": false,
    "jupyter": {
     "outputs_hidden": false
    }
   },
   "outputs": [],
   "source": [
    "# subset the usa_points by within/not within colorado to scatter plot them differently\n",
    "colorado = states[states['STATE_NAME']=='Colorado']['geometry']\n",
    "colorado_polygon = colorado.to_crs(target_crs).iloc[0] #project our shapefile to the same CRS we just used\n",
    "colorado_mask = usa_points.within(colorado_polygon) #for each point, returns true if within colorado, false if not\n",
    "colorado_points = usa_points[colorado_mask] #get all the points within colorado\n",
    "non_colorado_points = usa_points[~colorado_mask] #get all the points not within colorado"
   ]
  },
  {
   "cell_type": "code",
   "execution_count": null,
   "metadata": {
    "collapsed": false,
    "jupyter": {
     "outputs_hidden": false
    }
   },
   "outputs": [],
   "source": [
    "# draw a shaded relief map of North America then scatterplot colorado points in red, all others in purple\n",
    "plt.figure(figsize=[10,7])\n",
    "m = Basemap(ellps=target_crs['ellps'],\n",
    "            projection=target_crs['proj'],\n",
    "            lat_1=target_crs['lat_1'], \n",
    "            lat_2=target_crs['lat_2'], \n",
    "            lon_0=target_crs['lon_0'], \n",
    "            lat_0=target_crs['lat_0'],\n",
    "            width=map_width_m, \n",
    "            height=map_height_m,\n",
    "            resolution=None, #don't plot boundaries because we're doing shaded relief instead\n",
    "            area_thresh=10000)\n",
    "\n",
    "# draw a shaded relief map for this domain\n",
    "m.shadedrelief()\n",
    "\n",
    "# scatter plot our colorado points in red and everything else in purple\n",
    "m.scatter(x=colorado_points['x'], y=colorado_points['y'], s=80, color='r', edgecolor='k', alpha=0.4, zorder=10)\n",
    "m.scatter(x=non_colorado_points['x'], y=non_colorado_points['y'], s=40, color='m', edgecolor='k', alpha=0.4, zorder=10)\n",
    "plt.show()"
   ]
  },
  {
   "cell_type": "code",
   "execution_count": null,
   "metadata": {},
   "outputs": [],
   "source": [
    "# define an orthographic projection\n",
    "ortho_usa = {'datum':'WGS84',\n",
    "             'ellps':'WGS84',\n",
    "             'proj':'ortho',  \n",
    "             'lon_0':-105., \n",
    "             'lat_0':40.,\n",
    "             'units':'m'}"
   ]
  },
  {
   "cell_type": "code",
   "execution_count": null,
   "metadata": {
    "collapsed": false,
    "jupyter": {
     "outputs_hidden": false
    }
   },
   "outputs": [],
   "source": [
    "# draw an orthographic projection looking down on North America from orbit\n",
    "plt.figure(figsize=[6,6])\n",
    "m = Basemap(projection=ortho_usa['proj'],\n",
    "            lon_0=ortho_usa['lon_0'],\n",
    "            lat_0=ortho_usa['lat_0'],\n",
    "            resolution='l',\n",
    "            area_thresh=10000)\n",
    "\n",
    "m.drawcoastlines(color=coastline_color)\n",
    "m.fillcontinents(color=land_color,lake_color=water_color)\n",
    "m.drawmapboundary(fill_color=water_color)\n",
    "m.drawcountries(color=border_color)\n",
    "\n",
    "# add lines of longitude and latitude to give the globe perspective\n",
    "m.drawparallels(np.arange(-90., 120., 30.), color='gray')\n",
    "m.drawmeridians(np.arange(0., 420., 60.), color='gray')\n",
    "\n",
    "# we can use basemap to project our data into the current map projection\n",
    "x, y = m(np.array(usa_points['longitude']), np.array(usa_points['latitude']))\n",
    "m.scatter(x=x, y=y, s=3, color='m', edgecolor='None', alpha=0.5, zorder=10)\n",
    "plt.show()"
   ]
  },
  {
   "cell_type": "code",
   "execution_count": null,
   "metadata": {
    "collapsed": false,
    "jupyter": {
     "outputs_hidden": false
    }
   },
   "outputs": [],
   "source": [
    "# combine an orthographic projection with shaded relief\n",
    "plt.figure(figsize=[6,6])\n",
    "m = Basemap(projection=ortho_usa['proj'],\n",
    "            lon_0=ortho_usa['lon_0'],\n",
    "            lat_0=ortho_usa['lat_0'],\n",
    "            resolution=None)\n",
    "\n",
    "# draw the shaded relief and parallels/meridians\n",
    "m.shadedrelief()\n",
    "m.drawparallels(np.arange(-90., 120., 30.), color='gray')\n",
    "m.drawmeridians(np.arange(0., 420., 60.), color='gray')\n",
    "\n",
    "# project and plot our lat-long data\n",
    "x, y = m(np.array(usa_points['longitude']), np.array(usa_points['latitude']))\n",
    "m.scatter(x=x, y=y, s=3, color='m', edgecolor='None', alpha=0.5, zorder=10)\n",
    "plt.show()"
   ]
  },
  {
   "cell_type": "markdown",
   "metadata": {},
   "source": [
    "### Final example: plot projected Europe data, from scratch\n",
    "\n",
    "One last simple example, showing how easy it is to project and map spatial data from scratch in just a few lines of code."
   ]
  },
  {
   "cell_type": "code",
   "execution_count": null,
   "metadata": {
    "collapsed": false,
    "jupyter": {
     "outputs_hidden": false
    },
    "scrolled": true
   },
   "outputs": [],
   "source": [
    "# load the Europe GPS data\n",
    "df = pd.read_csv('data/summer-travel-gps-dbscan.csv')\n",
    "\n",
    "# specify map width and height with approx Europe dimensions\n",
    "map_width_m = 3500 * 1000 #3500 km\n",
    "map_height_m = 2500 * 1000 #2500 km\n",
    "plt.figure(figsize=[9, 9*(map_height_m/float(map_width_m))]) #make plot the same height:width ratio\n",
    "\n",
    "# Albers Conical Equal Area projection for Europe\n",
    "m = Basemap(ellps='WGS84', projection='aea', lat_1=35, lat_2=55, lon_0=10, lat_0=45,\n",
    "            width=map_width_m, height=map_height_m, resolution='l', area_thresh=10000)\n",
    "\n",
    "m.drawcoastlines(color=coastline_color)\n",
    "m.drawcountries(color=border_color)\n",
    "m.fillcontinents(color=land_color, lake_color=water_color)\n",
    "m.drawmapboundary(fill_color=water_color)\n",
    "\n",
    "# project and plot our lat-long data\n",
    "x, y = m(np.array(df['lon']), np.array(df['lat']))\n",
    "m.scatter(x=x, y=y, s=100, color='r', edgecolor='#333333', alpha=0.4, zorder=10)\n",
    "\n",
    "plt.show()"
   ]
  },
  {
   "cell_type": "markdown",
   "metadata": {},
   "source": [
    "So what's the point of all this? Why not just use QGIS? Well if I'm just trying to make a one-off map, I'd just use QGIS. But if I were automating a workflow, I'd use Python: geopandas and basemap are fast for projecting, mapping, and spatial analysis especially when it's repetitive. But most of all, if I'm already working with pandas data, cleaning it, analyzing it, modeling it - I can create a nice map of it with just a few more lines of code.\n",
    "\n",
    "If you're interested in more fine-grained control over plotting your basemap, you can project a shapefile and convert each piece of geometry inside it into a patch for matplotlib to plot (individually customizable). I describe this process in an old blog post I wrote: http://geoffboeing.com/2014/09/visualizing-summer-travels-part-6-projecting-spatial-data-python/"
   ]
  },
  {
   "cell_type": "code",
   "execution_count": null,
   "metadata": {},
   "outputs": [],
   "source": []
  }
 ],
 "metadata": {
  "kernelspec": {
   "display_name": "Python 3",
   "language": "python",
   "name": "python3"
  },
  "language_info": {
   "codemirror_mode": {
    "name": "ipython",
    "version": 3
   },
   "file_extension": ".py",
   "mimetype": "text/x-python",
   "name": "python",
   "nbconvert_exporter": "python",
   "pygments_lexer": "ipython3",
   "version": "3.8.6"
  }
 },
 "nbformat": 4,
 "nbformat_minor": 4
}
