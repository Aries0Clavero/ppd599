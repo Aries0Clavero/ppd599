{
 "cells": [
  {
   "cell_type": "markdown",
   "metadata": {},
   "source": [
    "# r-tree spatial indexing with Python and geopandas\n",
    "\n",
    "This demo uses [OSMnx](http://geoffboeing.com/2016/11/osmnx-python-street-networks/) and [geopandas](http://geoffboeing.com/2014/09/using-geopandas-windows/) to quickly find points within a polygon using an r-tree spatial index"
   ]
  },
  {
   "cell_type": "code",
   "execution_count": null,
   "metadata": {
    "collapsed": false,
    "jupyter": {
     "outputs_hidden": false
    }
   },
   "outputs": [],
   "source": [
    "import osmnx as ox, matplotlib.pyplot as plt, pandas as pd, geopandas as gpd\n",
    "from descartes import PolygonPatch\n",
    "from shapely.geometry import Point, Polygon, MultiPolygon\n",
    "%matplotlib inline"
   ]
  },
  {
   "cell_type": "markdown",
   "metadata": {},
   "source": [
    "## First example\n",
    "### Create a polygon for the boundary of a city, and points representing street intersections around it"
   ]
  },
  {
   "cell_type": "code",
   "execution_count": null,
   "metadata": {
    "collapsed": false,
    "jupyter": {
     "outputs_hidden": false
    }
   },
   "outputs": [],
   "source": [
    "# get the boundary of some city\n",
    "gdf = ox.gdf_from_place('Walnut Creek, California, USA')"
   ]
  },
  {
   "cell_type": "code",
   "execution_count": null,
   "metadata": {
    "collapsed": false,
    "jupyter": {
     "outputs_hidden": false
    }
   },
   "outputs": [],
   "source": [
    "# get the street network within this bounding box\n",
    "west, south, east, north = gdf.unary_union.buffer(0.1).bounds\n",
    "G = ox.graph_from_bbox(north, south, east, west, network_type='drive', retain_all=True)"
   ]
  },
  {
   "cell_type": "code",
   "execution_count": null,
   "metadata": {
    "collapsed": false,
    "jupyter": {
     "outputs_hidden": false
    }
   },
   "outputs": [],
   "source": [
    "# get lat-long points for each intersection\n",
    "xy = [(data['x'], data['y']) for node, data in G.nodes(data=True)]\n",
    "x, y = list(zip(*xy))"
   ]
  },
  {
   "cell_type": "code",
   "execution_count": null,
   "metadata": {
    "collapsed": false,
    "jupyter": {
     "outputs_hidden": false
    }
   },
   "outputs": [],
   "source": [
    "# turn the lat-long points into a geodataframe\n",
    "gdf_nodes = gpd.GeoDataFrame(data={'x':x, 'y':y})\n",
    "gdf_nodes.crs = gdf.crs\n",
    "gdf_nodes.name = 'nodes'\n",
    "gdf_nodes['geometry'] = gdf_nodes.apply(lambda row: Point((row['x'], row['y'])), axis=1)"
   ]
  },
  {
   "cell_type": "code",
   "execution_count": null,
   "metadata": {
    "collapsed": false,
    "jupyter": {
     "outputs_hidden": false
    }
   },
   "outputs": [],
   "source": [
    "# make the geometry a multipolygon if it's not already\n",
    "geometry = gdf['geometry'].iloc[0]\n",
    "if isinstance(geometry, Polygon):\n",
    "    geometry = MultiPolygon([geometry])"
   ]
  },
  {
   "cell_type": "markdown",
   "metadata": {},
   "source": [
    "### Got the data, now visualize the points and the polygon"
   ]
  },
  {
   "cell_type": "code",
   "execution_count": null,
   "metadata": {
    "collapsed": false,
    "jupyter": {
     "outputs_hidden": false
    }
   },
   "outputs": [],
   "source": [
    "# plot the city\n",
    "west, south, east, north = gdf.unary_union.bounds\n",
    "fig, ax = plt.subplots(figsize=(6,6))\n",
    "for polygon in geometry:\n",
    "    patch = PolygonPatch(polygon, fc='#cccccc', ec='k', alpha=0.5, zorder=2)\n",
    "    ax.add_patch(patch)\n",
    "    \n",
    "ax.set_xlim(west, east)\n",
    "ax.set_ylim(south, north)\n",
    "ax.axis('off')\n",
    "plt.show()"
   ]
  },
  {
   "cell_type": "code",
   "execution_count": null,
   "metadata": {
    "collapsed": false,
    "jupyter": {
     "outputs_hidden": false
    }
   },
   "outputs": [],
   "source": [
    "# plot the intersections and the city\n",
    "west, south, east, north = gdf_nodes.unary_union.bounds\n",
    "fig, ax = plt.subplots(figsize=(6,6))\n",
    "for polygon in geometry:\n",
    "    patch = PolygonPatch(polygon, fc='#cccccc', ec='k', alpha=0.5, zorder=2)\n",
    "    ax.add_patch(patch)\n",
    "\n",
    "ax.scatter(x=gdf_nodes['x'], y=gdf_nodes['y'], s=1, c='m', linewidth=0, zorder=1)\n",
    "    \n",
    "ax.set_xlim(west, east)\n",
    "ax.set_ylim(south, north)\n",
    "ax.axis('off')\n",
    "plt.show()"
   ]
  },
  {
   "cell_type": "markdown",
   "metadata": {},
   "source": [
    "### Create a spatial index and find the points within the polygon"
   ]
  },
  {
   "cell_type": "code",
   "execution_count": null,
   "metadata": {
    "collapsed": false,
    "jupyter": {
     "outputs_hidden": false
    }
   },
   "outputs": [],
   "source": [
    "sindex = gdf_nodes.sindex\n",
    "possible_matches_index = list(sindex.intersection(geometry.bounds))\n",
    "possible_matches = gdf_nodes.iloc[possible_matches_index]\n",
    "precise_matches = possible_matches[possible_matches.intersects(geometry)]"
   ]
  },
  {
   "cell_type": "code",
   "execution_count": null,
   "metadata": {},
   "outputs": [],
   "source": [
    "points_within_geometry = precise_matches\n",
    "points_outside_geometry = gdf_nodes[~gdf_nodes.isin(points_within_geometry)]"
   ]
  },
  {
   "cell_type": "code",
   "execution_count": null,
   "metadata": {
    "collapsed": false,
    "jupyter": {
     "outputs_hidden": false
    }
   },
   "outputs": [],
   "source": [
    "# plot the cut-up city\n",
    "fig, ax = plt.subplots(figsize=(6,6))\n",
    "for polygon in geometry:\n",
    "    patch = PolygonPatch(polygon, fc='#cccccc', ec='k', alpha=0.5, zorder=3)\n",
    "    ax.add_patch(patch)\n",
    "\n",
    "ax.scatter(x=points_outside_geometry['x'], y=points_outside_geometry['y'], s=1, c='r', linewidth=0, zorder=1)\n",
    "ax.scatter(x=points_within_geometry['x'], y=points_within_geometry['y'], s=1, c='b', linewidth=0, zorder=2)\n",
    "    \n",
    "ax.set_xlim(west, east)\n",
    "ax.set_ylim(south, north)\n",
    "ax.axis('off')\n",
    "plt.show()"
   ]
  },
  {
   "cell_type": "markdown",
   "metadata": {},
   "source": [
    "## Another Example\n",
    "\n",
    "What if the points and polygon have the same bounding box? Because the polygon's minimum bounding box is the same as the set of points' minimum bounding box, r-tree considers every point to be a possible match. Thus, using an r-tree spatial index makes the intersection run no faster than it would without the spatial index.\n",
    "\n",
    "Instead, we'll divide the polygon up into small sub-polygons, then using the spatial index to find which points possibly intersect with each of these sub-polygons. This method successfully finds fewer possible matches because each of the sub-polygons' minimum bounding boxes is much smaller than the set of points minimum bounding box.\n",
    "\n",
    "Problem: when the polygon's bounding box is the same as the set of points', r-tree identifies every point as a possible match, thus offering no speed up. When coupled with lots of points and a polygon with lots of vertices, the intersection process is very slow. Example: the City of Los Angeles might take 20+ minutes.\n",
    "\n",
    "Solution: wrote a quadrat routine to divide the polygon into sub-polygons. Then, for each sub-polygon, intersect it first with the points' r-tree index to get a small set of possible matches, then intersect those possible matches with the sub-polygon to get the set of precise matches. This brings computation time from 20+ minutes to a few seconds.\n",
    "\n",
    "### Create a polygon for the boundary of a city, and points representing street intersections around it"
   ]
  },
  {
   "cell_type": "code",
   "execution_count": null,
   "metadata": {},
   "outputs": [],
   "source": [
    "# get the boundary of some city\n",
    "gdf = ox.gdf_from_place('Los Angeles, California, USA')"
   ]
  },
  {
   "cell_type": "code",
   "execution_count": null,
   "metadata": {
    "collapsed": false,
    "jupyter": {
     "outputs_hidden": false
    }
   },
   "outputs": [],
   "source": [
    "# get the street network within this bounding box\n",
    "west, south, east, north = gdf.unary_union.bounds\n",
    "G = ox.graph_from_bbox(north, south, east, west, network_type='drive', retain_all=True)"
   ]
  },
  {
   "cell_type": "code",
   "execution_count": null,
   "metadata": {},
   "outputs": [],
   "source": [
    "# get lat-long points for each intersection\n",
    "xy = [(data['x'], data['y']) for node, data in G.nodes(data=True)]\n",
    "x, y = list(zip(*xy))"
   ]
  },
  {
   "cell_type": "code",
   "execution_count": null,
   "metadata": {},
   "outputs": [],
   "source": [
    "# turn the lat-long points into a geodataframe\n",
    "gdf_nodes = gpd.GeoDataFrame(data={'x':x, 'y':y})\n",
    "gdf_nodes.crs = gdf.crs\n",
    "gdf_nodes.name = 'nodes'\n",
    "gdf_nodes['geometry'] = gdf_nodes.apply(lambda row: Point((row['x'], row['y'])), axis=1)\n",
    "west, south, east, north = gdf_nodes.unary_union.bounds"
   ]
  },
  {
   "cell_type": "code",
   "execution_count": null,
   "metadata": {},
   "outputs": [],
   "source": [
    "# make the geometry a multipolygon if it's not already\n",
    "geometry = gdf['geometry'].iloc[0]\n",
    "if isinstance(geometry, Polygon):\n",
    "    geometry = MultiPolygon([geometry])"
   ]
  },
  {
   "cell_type": "code",
   "execution_count": null,
   "metadata": {
    "collapsed": false,
    "jupyter": {
     "outputs_hidden": false
    }
   },
   "outputs": [],
   "source": [
    "# plot the cut-up city\n",
    "fig, ax = plt.subplots(figsize=(6,6))\n",
    "for polygon in geometry:\n",
    "    patch = PolygonPatch(polygon, fc='#cccccc', ec='k', alpha=0.5, zorder=2)\n",
    "    ax.add_patch(patch)\n",
    "\n",
    "ax.scatter(x=gdf_nodes['x'], y=gdf_nodes['y'], s=1, c='m', linewidth=0, zorder=1)\n",
    "    \n",
    "ax.set_xlim(west, east)\n",
    "ax.set_ylim(south, north)\n",
    "ax.axis('off')\n",
    "plt.show()"
   ]
  },
  {
   "cell_type": "markdown",
   "metadata": {},
   "source": [
    "### Cut the polygon with quadrats into sub-polygons\n",
    "Note: in recent releases the function is available via `ox.utils_geo._quadrat_cut_geometry(geom, width)`."
   ]
  },
  {
   "cell_type": "code",
   "execution_count": null,
   "metadata": {
    "collapsed": false,
    "jupyter": {
     "outputs_hidden": false
    }
   },
   "outputs": [],
   "source": [
    "# quadrat_width is in the units the geometry is in, so we'll do a tenth of a degree\n",
    "geometry_cut = ox.quadrat_cut_geometry(geometry, quadrat_width=0.1)"
   ]
  },
  {
   "cell_type": "code",
   "execution_count": null,
   "metadata": {
    "collapsed": false,
    "jupyter": {
     "outputs_hidden": false
    }
   },
   "outputs": [],
   "source": [
    "# plot the city\n",
    "fig, ax = plt.subplots(figsize=(6,6))\n",
    "for polygon in geometry_cut:\n",
    "    patch = PolygonPatch(polygon, fc='#cccccc', ec='k', alpha=0.5, zorder=2)\n",
    "    ax.add_patch(patch)\n",
    "    \n",
    "ax.set_xlim(west, east)\n",
    "ax.set_ylim(south, north)\n",
    "ax.axis('off')\n",
    "plt.show()"
   ]
  },
  {
   "cell_type": "code",
   "execution_count": null,
   "metadata": {
    "collapsed": false,
    "jupyter": {
     "outputs_hidden": false
    }
   },
   "outputs": [],
   "source": [
    "# plot the cut-up city\n",
    "fig, ax = plt.subplots(figsize=(6,6))\n",
    "for polygon in geometry_cut:\n",
    "    patch = PolygonPatch(polygon, fc='#cccccc', ec='k', alpha=0.5, zorder=2)\n",
    "    ax.add_patch(patch)\n",
    "\n",
    "ax.scatter(x=gdf_nodes['x'], y=gdf_nodes['y'], s=1, c='m', linewidth=0, zorder=1)\n",
    "    \n",
    "ax.set_xlim(west, east)\n",
    "ax.set_ylim(south, north)\n",
    "ax.axis('off')\n",
    "plt.show()"
   ]
  },
  {
   "cell_type": "markdown",
   "metadata": {},
   "source": [
    "### Create a spatial index and find points within the sub-polygons"
   ]
  },
  {
   "cell_type": "code",
   "execution_count": null,
   "metadata": {},
   "outputs": [],
   "source": [
    "# build the r-tree index\n",
    "sindex = gdf_nodes.sindex"
   ]
  },
  {
   "cell_type": "code",
   "execution_count": null,
   "metadata": {
    "collapsed": false,
    "jupyter": {
     "outputs_hidden": false
    }
   },
   "outputs": [],
   "source": [
    "# find the points that intersect with each subpolygon and add them to points_within_geometry\n",
    "points_within_geometry = pd.DataFrame()\n",
    "for poly in geometry_cut:\n",
    "    # buffer by the <1 micron dist to account for any space lost in the quadrat cutting\n",
    "    # otherwise may miss point(s) that lay directly on quadrat line\n",
    "    poly = poly.buffer(1e-14).buffer(0)\n",
    "\n",
    "    # find approximate matches with r-tree, then precise matches from those approximate ones\n",
    "    possible_matches_index = list(sindex.intersection(poly.bounds))\n",
    "    possible_matches = gdf_nodes.iloc[possible_matches_index]\n",
    "    precise_matches = possible_matches[possible_matches.intersects(poly)]\n",
    "    points_within_geometry = points_within_geometry.append(precise_matches)"
   ]
  },
  {
   "cell_type": "code",
   "execution_count": null,
   "metadata": {
    "collapsed": false,
    "jupyter": {
     "outputs_hidden": false
    }
   },
   "outputs": [],
   "source": [
    "# drop duplicate points, if buffered poly caused an overlap on point(s) that lay directly on a quadrat line\n",
    "points_within_geometry = points_within_geometry.drop_duplicates(subset=['x', 'y'])\n",
    "points_outside_geometry = gdf_nodes[~gdf_nodes.isin(points_within_geometry)]"
   ]
  },
  {
   "cell_type": "code",
   "execution_count": null,
   "metadata": {
    "collapsed": false,
    "jupyter": {
     "outputs_hidden": false
    }
   },
   "outputs": [],
   "source": [
    "# plot the city and points within/outside\n",
    "fig, ax = plt.subplots(figsize=(6,6))\n",
    "for polygon in geometry:\n",
    "    patch = PolygonPatch(polygon, fc='#cccccc', ec='k', alpha=0.5, zorder=3)\n",
    "    ax.add_patch(patch)\n",
    "\n",
    "ax.scatter(x=points_outside_geometry['x'], y=points_outside_geometry['y'], s=1, c='r', linewidth=0, zorder=1)\n",
    "ax.scatter(x=points_within_geometry['x'], y=points_within_geometry['y'], s=1, c='b', linewidth=0, zorder=2)\n",
    "    \n",
    "ax.set_xlim(west, east)\n",
    "ax.set_ylim(south, north)\n",
    "ax.axis('off')\n",
    "plt.show()"
   ]
  },
  {
   "cell_type": "code",
   "execution_count": null,
   "metadata": {},
   "outputs": [],
   "source": []
  }
 ],
 "metadata": {
  "anaconda-cloud": {},
  "kernelspec": {
   "display_name": "Python 3",
   "language": "python",
   "name": "python3"
  },
  "language_info": {
   "codemirror_mode": {
    "name": "ipython",
    "version": 3
   },
   "file_extension": ".py",
   "mimetype": "text/x-python",
   "name": "python",
   "nbconvert_exporter": "python",
   "pygments_lexer": "ipython3",
   "version": "3.8.6"
  }
 },
 "nbformat": 4,
 "nbformat_minor": 4
}
