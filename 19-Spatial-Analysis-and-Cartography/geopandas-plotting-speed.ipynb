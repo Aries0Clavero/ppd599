{
 "cells": [
  {
   "cell_type": "markdown",
   "metadata": {},
   "source": [
    "# Plot geopandas geometries faster with numpy, descartes, and matplotlib\n",
    "\n",
    "It's slow to plot thousands of GeoDataFrame rows. Instead, use the speed advantages of numpy, descartes, and matplotlib's API (including its powerful *collections*). I'll use a randomly-generated set of spatial data to demonstrate."
   ]
  },
  {
   "cell_type": "code",
   "execution_count": null,
   "metadata": {
    "collapsed": false,
    "jupyter": {
     "outputs_hidden": false
    }
   },
   "outputs": [],
   "source": [
    "import geopandas as gpd, numpy as np, matplotlib.pyplot as plt\n",
    "from matplotlib.collections import PatchCollection\n",
    "from descartes import PolygonPatch\n",
    "from shapely.geometry import Point\n",
    "%matplotlib inline"
   ]
  },
  {
   "cell_type": "code",
   "execution_count": null,
   "metadata": {
    "collapsed": false,
    "jupyter": {
     "outputs_hidden": false
    }
   },
   "outputs": [],
   "source": [
    "# create a geopandas GeoDataFrame with 10,000 random points\n",
    "n = 10000\n",
    "np.random.seed(1)\n",
    "x = np.random.random(n)\n",
    "y = np.random.random(n)\n",
    "points = [Point(xy) for xy in zip(x, y)]\n",
    "gdf = gpd.GeoDataFrame({'geometry':points})\n",
    "gdf.head()"
   ]
  },
  {
   "cell_type": "markdown",
   "metadata": {},
   "source": [
    "## Demonstrate geopandas point scatter-plotting, vs using numpy and matplotlib\n",
    "\n",
    "Natively, geopandas treats each row as its own entity, and plots the features one at a time."
   ]
  },
  {
   "cell_type": "code",
   "execution_count": null,
   "metadata": {
    "collapsed": false,
    "jupyter": {
     "outputs_hidden": false
    }
   },
   "outputs": [],
   "source": [
    "# this is painfully slow\n",
    "gdf.plot()\n",
    "plt.show()"
   ]
  },
  {
   "cell_type": "code",
   "execution_count": null,
   "metadata": {
    "collapsed": false,
    "jupyter": {
     "outputs_hidden": false
    }
   },
   "outputs": [],
   "source": [
    "# instead, extract coordinates into separate numpy arrays...\n",
    "xy = gdf['geometry'].map(lambda point: point.xy)\n",
    "x, y = zip(*xy)\n",
    "\n",
    "# ...and then scatter plot with a single call to matplotlib\n",
    "fig, ax = plt.subplots(figsize=(5,5))\n",
    "ax.scatter(x=x, y=y, s=2, color='#3399cc', linewidth=0, alpha=0.7)\n",
    "ax.set_xlim((0,1))\n",
    "ax.set_ylim((0,1))\n",
    "plt.show()"
   ]
  },
  {
   "cell_type": "markdown",
   "metadata": {},
   "source": [
    "That was fast!\n",
    "\n",
    "## Time the two methods to demonstrate the speed improvement"
   ]
  },
  {
   "cell_type": "code",
   "execution_count": null,
   "metadata": {
    "collapsed": false,
    "jupyter": {
     "outputs_hidden": false
    }
   },
   "outputs": [],
   "source": [
    "def plot1(gdf):\n",
    "    gdf.plot()\n",
    "    plt.close()\n",
    "    \n",
    "%timeit plot1(gdf)"
   ]
  },
  {
   "cell_type": "code",
   "execution_count": null,
   "metadata": {
    "collapsed": false,
    "jupyter": {
     "outputs_hidden": false
    }
   },
   "outputs": [],
   "source": [
    "def plot2(gdf):\n",
    "    xy = gdf['geometry'].map(lambda point: point.xy)\n",
    "    x, y = zip(*xy)\n",
    "    fig, ax = plt.subplots()\n",
    "    ax.scatter(x=x, y=y)\n",
    "    plt.close()\n",
    "\n",
    "%timeit plot2(gdf)"
   ]
  },
  {
   "cell_type": "markdown",
   "metadata": {},
   "source": [
    "The first technique plots 10,000 points in about 11 seconds, the latter takes about 270 milliseconds.\n",
    "\n",
    "## Demonstrate faster polygon plotting"
   ]
  },
  {
   "cell_type": "code",
   "execution_count": null,
   "metadata": {
    "collapsed": false,
    "jupyter": {
     "outputs_hidden": false
    }
   },
   "outputs": [],
   "source": [
    "# take the first 1,000 points and turn them into polygons\n",
    "gdf_polygons = gpd.GeoDataFrame(gdf.head(1000).copy())\n",
    "gdf_polygons['geometry'] = gdf_polygons['geometry'].buffer(0.1)\n",
    "gdf_polygons.head()"
   ]
  },
  {
   "cell_type": "code",
   "execution_count": null,
   "metadata": {
    "collapsed": false,
    "jupyter": {
     "outputs_hidden": false
    }
   },
   "outputs": [],
   "source": [
    "# this is painfully slow\n",
    "gdf_polygons.plot()\n",
    "plt.show()"
   ]
  },
  {
   "cell_type": "code",
   "execution_count": null,
   "metadata": {
    "collapsed": false,
    "jupyter": {
     "outputs_hidden": false
    }
   },
   "outputs": [],
   "source": [
    "# instead, extract each polygon as a descartes patch, and add to a matplotlib patch collection...\n",
    "# note, this code assumes all geometries are Polygons - if you have MultiPolygons, handle separately\n",
    "patches = [PolygonPatch(geometry) for geometry in gdf_polygons['geometry']]\n",
    "pc = PatchCollection(patches, facecolor='#3399cc', linewidth=1, alpha=0.1)\n",
    "fig, ax = plt.subplots(figsize=(5,5))\n",
    "ax.add_collection(pc)\n",
    "\n",
    "# ...then set the figure bounds to the polygons' bounds\n",
    "left, bottom, right, top = gdf_polygons.total_bounds\n",
    "ax.set_xlim((left,right))\n",
    "ax.set_ylim((bottom,top))\n",
    "plt.show()"
   ]
  },
  {
   "cell_type": "markdown",
   "metadata": {},
   "source": [
    "That was fast!\n",
    "\n",
    "## Time the two methods to demonstrate the speed improvement"
   ]
  },
  {
   "cell_type": "code",
   "execution_count": null,
   "metadata": {
    "collapsed": false,
    "jupyter": {
     "outputs_hidden": false
    }
   },
   "outputs": [],
   "source": [
    "def plot_polygons1(gdf_polygons):\n",
    "    gdf_polygons.plot()\n",
    "    plt.close()\n",
    "    \n",
    "%timeit plot_polygons1(gdf_polygons)"
   ]
  },
  {
   "cell_type": "code",
   "execution_count": null,
   "metadata": {
    "collapsed": false,
    "jupyter": {
     "outputs_hidden": false
    }
   },
   "outputs": [],
   "source": [
    "def plot_polygons2(gdf_polygons):\n",
    "    patches = [PolygonPatch(geometry) for geometry in gdf_polygons['geometry']]\n",
    "    pc = PatchCollection(patches, facecolor='#3399cc', linewidth=0.2, alpha=0.3)\n",
    "    fig, ax = plt.subplots(figsize=(5,5))\n",
    "    ax.add_collection(pc)\n",
    "    plt.close()\n",
    "\n",
    "%timeit plot_polygons2(gdf_polygons)"
   ]
  },
  {
   "cell_type": "markdown",
   "metadata": {},
   "source": [
    "The first technique plots 1,000 polygons in about 2 seconds, the latter takes about 330 milliseconds."
   ]
  },
  {
   "cell_type": "code",
   "execution_count": null,
   "metadata": {},
   "outputs": [],
   "source": []
  }
 ],
 "metadata": {
  "anaconda-cloud": {},
  "kernelspec": {
   "display_name": "Python 3",
   "language": "python",
   "name": "python3"
  },
  "language_info": {
   "codemirror_mode": {
    "name": "ipython",
    "version": 3
   },
   "file_extension": ".py",
   "mimetype": "text/x-python",
   "name": "python",
   "nbconvert_exporter": "python",
   "pygments_lexer": "ipython3",
   "version": "3.8.6"
  }
 },
 "nbformat": 4,
 "nbformat_minor": 4
}
