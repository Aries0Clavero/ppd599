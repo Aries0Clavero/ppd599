{
 "cells": [
  {
   "cell_type": "markdown",
   "metadata": {},
   "source": [
    "# Using matplotlib basemap to project California data"
   ]
  },
  {
   "cell_type": "code",
   "execution_count": null,
   "metadata": {},
   "outputs": [],
   "source": [
    "%matplotlib inline\n",
    "import pandas as pd, numpy as np, matplotlib.pyplot as plt\n",
    "from geopandas import GeoDataFrame\n",
    "from mpl_toolkits.basemap import Basemap\n",
    "from shapely.geometry import Point"
   ]
  },
  {
   "cell_type": "code",
   "execution_count": null,
   "metadata": {},
   "outputs": [],
   "source": [
    "# define basemap colors\n",
    "land_color = '#F6F6F6'\n",
    "water_color = '#D2F5FF'\n",
    "coastline_color = '#333333'\n",
    "border_color = '#999999'"
   ]
  },
  {
   "cell_type": "code",
   "execution_count": null,
   "metadata": {
    "collapsed": false,
    "jupyter": {
     "outputs_hidden": false
    }
   },
   "outputs": [],
   "source": [
    "# load the point data and select only points in california\n",
    "df = pd.read_csv('data/usa-latlong.csv')\n",
    "usa_points = GeoDataFrame(df)\n",
    "usa_points['geometry'] = usa_points.apply(lambda row: Point(row['longitude'], row['latitude']), axis=1)\n",
    "states = GeoDataFrame.from_file('data/states_21basic/states.shp')\n",
    "california = states[states['STATE_NAME']=='California']['geometry']\n",
    "california_polygon = california.iloc[0]\n",
    "california_points = usa_points[usa_points.within(california_polygon)]"
   ]
  },
  {
   "cell_type": "code",
   "execution_count": null,
   "metadata": {},
   "outputs": [],
   "source": [
    "# first define a transverse mercator projection\n",
    "map_width_m = 1000 * 1000\n",
    "map_height_m = 1200 * 1000\n",
    "target_crs = {'datum':'WGS84',\n",
    "              'ellps':'WGS84',\n",
    "              'proj':'tmerc',\n",
    "              'lon_0':-119,\n",
    "              'lat_0':37.5}"
   ]
  },
  {
   "cell_type": "code",
   "execution_count": null,
   "metadata": {
    "collapsed": false,
    "jupyter": {
     "outputs_hidden": false
    }
   },
   "outputs": [],
   "source": [
    "# plot the map\n",
    "fig_width = 6\n",
    "plt.figure(figsize=[fig_width, fig_width * map_height_m / float(map_width_m)])\n",
    "\n",
    "m = Basemap(ellps=target_crs['ellps'],\n",
    "            projection=target_crs['proj'],\n",
    "            lon_0=target_crs['lon_0'], \n",
    "            lat_0=target_crs['lat_0'],\n",
    "            width=map_width_m, \n",
    "            height=map_height_m,\n",
    "            resolution='l',\n",
    "            area_thresh=10000)\n",
    "\n",
    "m.drawcoastlines(color=coastline_color)\n",
    "m.drawcountries(color=border_color)\n",
    "m.fillcontinents(color=land_color, lake_color=water_color)\n",
    "m.drawstates(color=border_color)\n",
    "m.drawmapboundary(fill_color=water_color)\n",
    "\n",
    "x, y = m(np.array(california_points['longitude']), np.array(california_points['latitude']))\n",
    "m.scatter(x, y, s=80, color='r', edgecolor='#333333', alpha=0.4, zorder=10)\n",
    "\n",
    "plt.show()"
   ]
  },
  {
   "cell_type": "code",
   "execution_count": null,
   "metadata": {},
   "outputs": [],
   "source": [
    "# next define an albers projection for california\n",
    "target_crs = {'datum':'NAD83',\n",
    "              'ellps':'GRS80',\n",
    "              'proj':'aea', \n",
    "              'lat_1':35, \n",
    "              'lat_2':39, \n",
    "              'lon_0':-119, \n",
    "              'lat_0':37.5, \n",
    "              'x_0':map_width_m/2, \n",
    "              'y_0':map_height_m/2,\n",
    "              'units':'m'}"
   ]
  },
  {
   "cell_type": "code",
   "execution_count": null,
   "metadata": {
    "collapsed": false,
    "jupyter": {
     "outputs_hidden": false
    }
   },
   "outputs": [],
   "source": [
    "# plot the map\n",
    "fig_width = 6\n",
    "plt.figure(figsize=[fig_width, fig_width * map_height_m / float(map_width_m)])\n",
    "\n",
    "m = Basemap(ellps=target_crs['ellps'],\n",
    "            projection=target_crs['proj'],\n",
    "            lat_1=target_crs['lat_1'], \n",
    "            lat_2=target_crs['lat_2'], \n",
    "            lon_0=target_crs['lon_0'], \n",
    "            lat_0=target_crs['lat_0'],\n",
    "            width=map_width_m, \n",
    "            height=map_height_m,\n",
    "            resolution='l',\n",
    "            area_thresh=10000)\n",
    "\n",
    "m.drawcoastlines(color=coastline_color)\n",
    "m.drawcountries(color=border_color)\n",
    "m.fillcontinents(color=land_color, lake_color=water_color)\n",
    "m.drawstates(color=border_color)\n",
    "m.drawmapboundary(fill_color=water_color)\n",
    "\n",
    "x, y = m(np.array(california_points['longitude']), np.array(california_points['latitude']))\n",
    "m.scatter(x, y, s=80, color='r', edgecolor='#333333', alpha=0.4, zorder=10)\n",
    "\n",
    "plt.show()"
   ]
  },
  {
   "cell_type": "code",
   "execution_count": null,
   "metadata": {},
   "outputs": [],
   "source": []
  }
 ],
 "metadata": {
  "kernelspec": {
   "display_name": "Python 3",
   "language": "python",
   "name": "python3"
  },
  "language_info": {
   "codemirror_mode": {
    "name": "ipython",
    "version": 3
   },
   "file_extension": ".py",
   "mimetype": "text/x-python",
   "name": "python",
   "nbconvert_exporter": "python",
   "pygments_lexer": "ipython3",
   "version": "3.8.6"
  }
 },
 "nbformat": 4,
 "nbformat_minor": 4
}
