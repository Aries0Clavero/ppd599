{
 "cells": [
  {
   "cell_type": "markdown",
   "metadata": {},
   "source": [
    "# Spatial joins and plotting in Python and geopandas"
   ]
  },
  {
   "cell_type": "code",
   "execution_count": null,
   "metadata": {},
   "outputs": [],
   "source": [
    "import numpy as np, pandas as pd, geopandas as gpd, matplotlib.pyplot as plt, matplotlib.cm as cm\n",
    "from matplotlib.collections import PatchCollection\n",
    "from descartes import PolygonPatch\n",
    "from shapely.geometry import Point, Polygon, MultiPolygon\n",
    "%matplotlib inline"
   ]
  },
  {
   "cell_type": "markdown",
   "metadata": {},
   "source": [
    "## Load the rental listings and TAZ polygons"
   ]
  },
  {
   "cell_type": "code",
   "execution_count": null,
   "metadata": {
    "collapsed": false,
    "jupyter": {
     "outputs_hidden": false
    }
   },
   "outputs": [],
   "source": [
    "# load the shapefile of TAZs\n",
    "taz = gpd.read_file('data/TAZ/bayarea_superdistricts.shp')"
   ]
  },
  {
   "cell_type": "code",
   "execution_count": null,
   "metadata": {
    "collapsed": false,
    "jupyter": {
     "outputs_hidden": false
    }
   },
   "outputs": [],
   "source": [
    "# load rental listings point data\n",
    "df = pd.read_csv('data/rents.csv')\n",
    "geom = [Point(xy) for xy in zip(df['longitude'], df['latitude'])]\n",
    "rentals = gpd.GeoDataFrame(df, geometry=geom)"
   ]
  },
  {
   "cell_type": "code",
   "execution_count": null,
   "metadata": {
    "collapsed": false,
    "jupyter": {
     "outputs_hidden": false
    }
   },
   "outputs": [],
   "source": [
    "# how many rows do we have in each data set?\n",
    "print(len(taz))\n",
    "print(len(rentals))"
   ]
  },
  {
   "cell_type": "code",
   "execution_count": null,
   "metadata": {
    "collapsed": false,
    "jupyter": {
     "outputs_hidden": false
    }
   },
   "outputs": [],
   "source": [
    "rentals['geometry'].head()"
   ]
  },
  {
   "cell_type": "markdown",
   "metadata": {},
   "source": [
    "Looks like the geometry we loaded is in lat-long. So, set the CRS of this geodataframe to lat-long, so that it knows what coordinate system this is initially."
   ]
  },
  {
   "cell_type": "code",
   "execution_count": null,
   "metadata": {
    "collapsed": false,
    "jupyter": {
     "outputs_hidden": false
    }
   },
   "outputs": [],
   "source": [
    "original_crs = {'init':'epsg:4326'}\n",
    "rentals.crs = original_crs"
   ]
  },
  {
   "cell_type": "markdown",
   "metadata": {},
   "source": [
    "## Project the data so it's all in the same CRS"
   ]
  },
  {
   "cell_type": "code",
   "execution_count": null,
   "metadata": {
    "collapsed": false,
    "jupyter": {
     "outputs_hidden": false
    }
   },
   "outputs": [],
   "source": [
    "print(rentals.crs)\n",
    "print(taz.crs)"
   ]
  },
  {
   "cell_type": "markdown",
   "metadata": {},
   "source": [
    "The initial CRSs of these two data sets are not the same, because the saved data we loaded was in lat-long and UTM, respectively. We have two data sets: one point data set of rental listings, in lat-long, and one polygon data set of TAZs, in UTM-10. To work with these two data sets together, they need to be in the same CRS, so we need to project one. We'll project the rental listings from lat-long to the TAZs' UTM CRS."
   ]
  },
  {
   "cell_type": "code",
   "execution_count": null,
   "metadata": {
    "collapsed": false,
    "jupyter": {
     "outputs_hidden": false
    }
   },
   "outputs": [],
   "source": [
    "rentals = rentals.to_crs(taz.crs)"
   ]
  },
  {
   "cell_type": "code",
   "execution_count": null,
   "metadata": {
    "collapsed": false,
    "jupyter": {
     "outputs_hidden": false
    }
   },
   "outputs": [],
   "source": [
    "print(rentals.crs)\n",
    "print(taz.crs)"
   ]
  },
  {
   "cell_type": "markdown",
   "metadata": {},
   "source": [
    "Ok, now they're the same. To confirm, we can scatter plot the points over the polygons and make sure everything lines up."
   ]
  },
  {
   "cell_type": "code",
   "execution_count": null,
   "metadata": {
    "collapsed": false,
    "jupyter": {
     "outputs_hidden": false
    }
   },
   "outputs": [],
   "source": [
    "fig, ax = plt.subplots(figsize=(5,5))\n",
    "\n",
    "# extract each polygon as a descartes patch, and add to a matplotlib patch collection...\n",
    "patches = []\n",
    "for geometry in taz['geometry']:\n",
    "    if isinstance(geometry, Polygon):\n",
    "        patches.append(PolygonPatch(geometry))\n",
    "    elif isinstance(geometry, MultiPolygon):\n",
    "        for subpolygon in geometry: #if geometry is multipolygon, go through each constituent subpolygon\n",
    "            patches.append(PolygonPatch(subpolygon))\n",
    "pc = PatchCollection(patches, facecolor='#3399cc', linewidth=1, alpha=0.1)\n",
    "ax.add_collection(pc)\n",
    "\n",
    "# extract coordinates into separate numpy arrays and scatter plot\n",
    "xy = rentals['geometry'].map(lambda point: point.xy)\n",
    "x, y = zip(*xy)\n",
    "ax.scatter(x=x, y=y, s=2, color='#3366cc', linewidth=0, alpha=0.7)\n",
    "\n",
    "# set the figure bounds to the polygons' bounds\n",
    "left, bottom, right, top = taz.total_bounds\n",
    "ax.set_xlim((left,right))\n",
    "ax.set_ylim((bottom,top))\n",
    "plt.show()"
   ]
  },
  {
   "cell_type": "markdown",
   "metadata": {},
   "source": [
    "## Spatial join rental listings to TAZs"
   ]
  },
  {
   "cell_type": "code",
   "execution_count": null,
   "metadata": {
    "collapsed": false,
    "jupyter": {
     "outputs_hidden": false
    }
   },
   "outputs": [],
   "source": [
    "# doubly confirm their CRSs match before doing the spatial join\n",
    "rentals.crs==taz.crs"
   ]
  },
  {
   "cell_type": "code",
   "execution_count": null,
   "metadata": {
    "collapsed": false,
    "jupyter": {
     "outputs_hidden": false
    }
   },
   "outputs": [],
   "source": [
    "# get the taz district for each rental listing, with spatial join\n",
    "# use op='within' to use rtree spatial index for much faster operation\n",
    "taz_rentals = gpd.sjoin(rentals, taz, how='left', op='within')\n",
    "len(taz_rentals)"
   ]
  },
  {
   "cell_type": "code",
   "execution_count": null,
   "metadata": {
    "collapsed": false,
    "jupyter": {
     "outputs_hidden": false
    }
   },
   "outputs": [],
   "source": [
    "# optionally drop all the listings outside of any TAZ, then convert the TAZ IDs to int\n",
    "taz_rentals = taz_rentals.dropna(subset=['SUPERD'])\n",
    "taz_rentals['SUPERD'] = taz_rentals['SUPERD'].astype(int)\n",
    "len(taz_rentals)"
   ]
  },
  {
   "cell_type": "code",
   "execution_count": null,
   "metadata": {
    "collapsed": false,
    "jupyter": {
     "outputs_hidden": false
    }
   },
   "outputs": [],
   "source": [
    "# how many rental listings are in each taz?\n",
    "ax = taz_rentals['SUPERD'].value_counts().sort_index().plot(kind='bar',\n",
    "                                                            width=0.9,\n",
    "                                                            color='g',\n",
    "                                                            alpha=0.5,\n",
    "                                                            linewidth=0)\n",
    "ax.set_xlabel('TAZ super district')\n",
    "ax.set_ylabel('Number of rental listings')\n",
    "plt.show()"
   ]
  },
  {
   "cell_type": "markdown",
   "metadata": {},
   "source": [
    "## Plot each rental listing colored according to TAZ"
   ]
  },
  {
   "cell_type": "code",
   "execution_count": null,
   "metadata": {},
   "outputs": [],
   "source": [
    "# get a color for each taz\n",
    "color_list = [cm.get_cmap('plasma')(x) for x in np.linspace(0, 1, len(taz['SUPERD']))]\n",
    "taz_colors = {taz+1:color for taz, color in enumerate(color_list)}\n",
    "colors = taz_rentals['SUPERD'].map(lambda x: taz_colors[x])"
   ]
  },
  {
   "cell_type": "code",
   "execution_count": null,
   "metadata": {
    "collapsed": false,
    "jupyter": {
     "outputs_hidden": false
    }
   },
   "outputs": [],
   "source": [
    "fig, ax = plt.subplots(figsize=(5,5))\n",
    "\n",
    "# extract each polygon as a descartes patch, and add to a matplotlib patch collection...\n",
    "patches = []\n",
    "for geometry in taz['geometry']:\n",
    "    if isinstance(geometry, Polygon):\n",
    "        patches.append(PolygonPatch(geometry))\n",
    "    elif isinstance(geometry, MultiPolygon):\n",
    "        for subpolygon in geometry: #if geometry is multipolygon, go through each constituent subpolygon\n",
    "            patches.append(PolygonPatch(subpolygon))\n",
    "pc = PatchCollection(patches, facecolor='#3399cc', linewidth=1, alpha=0.1)\n",
    "ax.add_collection(pc)\n",
    "\n",
    "# extract coordinates into separate numpy arrays and scatter plot\n",
    "xy = taz_rentals['geometry'].map(lambda point: point.xy)\n",
    "x, y = zip(*xy)\n",
    "ax.scatter(x=x, y=y, s=4, color=colors, linewidth=0, alpha=0.7)\n",
    "\n",
    "# set the figure bounds to the polygons' bounds\n",
    "left, bottom, right, top = taz.total_bounds\n",
    "ax.set_xlim((left,right))\n",
    "ax.set_ylim((bottom,top))\n",
    "ax.axis('off')\n",
    "plt.show()"
   ]
  },
  {
   "cell_type": "markdown",
   "metadata": {},
   "source": [
    "Points are colored by TAZ, but you could color them by any other attribute, such as distance to job center or whatnot"
   ]
  },
  {
   "cell_type": "markdown",
   "metadata": {},
   "source": [
    "## Color polygons by number of rental listings per acre\n",
    "\n",
    "...or by median rent, etc."
   ]
  },
  {
   "cell_type": "code",
   "execution_count": null,
   "metadata": {
    "collapsed": false,
    "jupyter": {
     "outputs_hidden": false
    }
   },
   "outputs": [],
   "source": [
    "# count the number of listings in each TAZ then merge the counts with the TAZ geodataframe\n",
    "counts = pd.DataFrame(taz_rentals['SUPERD'].value_counts()).reset_index().rename(columns={'index':'SUPERD',\n",
    "                                                                                          'SUPERD':'count_listings'})\n",
    "taz_counts = pd.merge(taz, counts, how='left', on='SUPERD')"
   ]
  },
  {
   "cell_type": "code",
   "execution_count": null,
   "metadata": {
    "collapsed": false,
    "jupyter": {
     "outputs_hidden": false
    }
   },
   "outputs": [],
   "source": [
    "# calculate the number of listings per acre in each TAZ, then sort by it\n",
    "taz_counts['listings_acre'] = taz_counts['count_listings'] / taz_counts['LANDACRE']\n",
    "taz_counts = taz_counts.sort_values(by='listings_acre')"
   ]
  },
  {
   "cell_type": "code",
   "execution_count": null,
   "metadata": {
    "collapsed": false,
    "jupyter": {
     "outputs_hidden": false
    }
   },
   "outputs": [],
   "source": [
    "fig, ax = plt.subplots(figsize=(6,6))\n",
    "\n",
    "# extract each polygon as a descartes patch, and add to a matplotlib patch collection...\n",
    "patches = []\n",
    "fc = []\n",
    "for geometry, color in zip(taz_counts['geometry'], reversed(color_list)):\n",
    "    if isinstance(geometry, Polygon):\n",
    "        patches.append(PolygonPatch(geometry))\n",
    "        fc.append(color)\n",
    "    elif isinstance(geometry, MultiPolygon):\n",
    "        for subpolygon in geometry: #if geometry is multipolygon, go through each constituent subpolygon\n",
    "            patches.append(PolygonPatch(subpolygon))\n",
    "            fc.append(color)\n",
    "pc = PatchCollection(patches, facecolor=fc, linewidth=0.2, alpha=0.7)\n",
    "ax.add_collection(pc)\n",
    "\n",
    "# set the figure bounds to the polygons' bounds\n",
    "left, bottom, right, top = taz_counts.total_bounds\n",
    "ax.set_xlim((left,right))\n",
    "ax.set_ylim((bottom,top))\n",
    "ax.axis('off')\n",
    "plt.show()"
   ]
  },
  {
   "cell_type": "code",
   "execution_count": null,
   "metadata": {},
   "outputs": [],
   "source": []
  }
 ],
 "metadata": {
  "anaconda-cloud": {},
  "kernelspec": {
   "display_name": "Python 3",
   "language": "python",
   "name": "python3"
  },
  "language_info": {
   "codemirror_mode": {
    "name": "ipython",
    "version": 3
   },
   "file_extension": ".py",
   "mimetype": "text/x-python",
   "name": "python",
   "nbconvert_exporter": "python",
   "pygments_lexer": "ipython3",
   "version": "3.8.6"
  }
 },
 "nbformat": 4,
 "nbformat_minor": 4
}
