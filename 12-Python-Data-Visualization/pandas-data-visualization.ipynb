{
 "cells": [
  {
   "cell_type": "markdown",
   "metadata": {},
   "source": [
    "# Data visualization with pandas\n",
    "### ...or, how to make matplotlib look a little nicer\n",
    "\n",
    "- documentation: http://matplotlib.org/api/index.html\n",
    "- examples: http://matplotlib.org/examples/index.html\n",
    "- gallery: http://matplotlib.org/gallery.html\n",
    "\n",
    "Today we'll break down the components and styling of bar charts, line charts, scatter plots, and pie charts. You'll learn the gist of dissecting matplotlib and bending it to your will. Once you've learned how to do all of this, other Python visualization libraries are quite easy to pick up.\n",
    "\n",
    "There are other nice visualization libraries out there, such as:\n",
    "- seaborn: https://web.stanford.edu/~mwaskom/software/seaborn/\n",
    "- bokeh: http://bokeh.pydata.org/en/latest/"
   ]
  },
  {
   "cell_type": "code",
   "execution_count": null,
   "metadata": {
    "collapsed": false,
    "jupyter": {
     "outputs_hidden": false
    }
   },
   "outputs": [],
   "source": [
    "# magic command to display matplotlib plots inline within the ipython notebook webpage\n",
    "%matplotlib inline\n",
    "\n",
    "# import necessary modules\n",
    "import pandas as pd, numpy as np, matplotlib.pyplot as plt\n",
    "import matplotlib.cm as cm, matplotlib.font_manager as fm"
   ]
  },
  {
   "cell_type": "markdown",
   "metadata": {},
   "source": [
    "## load the data sets"
   ]
  },
  {
   "cell_type": "code",
   "execution_count": null,
   "metadata": {
    "collapsed": false,
    "jupyter": {
     "outputs_hidden": false
    }
   },
   "outputs": [],
   "source": [
    "# load the gps coordinate data, using the date as the full set's index\n",
    "# the data files are encoded as utf-8: specify so to prevent matplotlib from choking on diacritics\n",
    "df = pd.read_csv('data/summer-travel-gps-full.csv', encoding='utf-8', index_col='date', parse_dates=True)\n",
    "rs = pd.read_csv('data/summer-travel-gps-dbscan.csv', encoding='utf-8')"
   ]
  },
  {
   "cell_type": "code",
   "execution_count": null,
   "metadata": {
    "collapsed": false,
    "jupyter": {
     "outputs_hidden": false
    }
   },
   "outputs": [],
   "source": [
    "df.head()"
   ]
  },
  {
   "cell_type": "code",
   "execution_count": null,
   "metadata": {
    "collapsed": false,
    "jupyter": {
     "outputs_hidden": false
    }
   },
   "outputs": [],
   "source": [
    "rs.head()"
   ]
  },
  {
   "cell_type": "code",
   "execution_count": null,
   "metadata": {
    "collapsed": false,
    "jupyter": {
     "outputs_hidden": false
    }
   },
   "outputs": [],
   "source": [
    "# define the font styles\n",
    "title_font = fm.FontProperties(family='Bitstream Vera Sans', style='normal', size=15, weight='normal', stretch='normal')\n",
    "label_font = fm.FontProperties(family='Bitstream Vera Sans', style='normal', size=12, weight='normal', stretch='normal')\n",
    "ticks_font = fm.FontProperties(family='Bitstream Vera Sans', style='normal', size=10, weight='normal', stretch='normal')\n",
    "annotation_font = fm.FontProperties(family='Bitstream Vera Sans', style='normal', size=10, weight='normal', stretch='normal')\n",
    "axis_bgcolor = '#f0f0f0'"
   ]
  },
  {
   "cell_type": "markdown",
   "metadata": {},
   "source": [
    "## First up: Bar Charts"
   ]
  },
  {
   "cell_type": "code",
   "execution_count": null,
   "metadata": {
    "collapsed": false,
    "jupyter": {
     "outputs_hidden": false
    }
   },
   "outputs": [],
   "source": [
    "# get the most visited countries\n",
    "countries = df['country'].value_counts()\n",
    "countries"
   ]
  },
  {
   "cell_type": "code",
   "execution_count": null,
   "metadata": {
    "collapsed": false,
    "jupyter": {
     "outputs_hidden": false
    }
   },
   "outputs": [],
   "source": [
    "# default matplotlib bar chart\n",
    "countries.plot(kind='bar')"
   ]
  },
  {
   "cell_type": "code",
   "execution_count": null,
   "metadata": {
    "collapsed": false,
    "jupyter": {
     "outputs_hidden": false
    }
   },
   "outputs": [],
   "source": [
    "# style the chart to make it look nicer\n",
    "ax = countries.plot(kind='bar', figsize=[9, 6], width=0.6, alpha=0.6, \n",
    "                    color='g', edgecolor='k', grid=False, ylim=[0, 700])\n",
    "\n",
    "ax.set_xticklabels(countries.index, rotation=45, rotation_mode='anchor', ha='right', fontproperties=ticks_font)\n",
    "ax.yaxis.grid(True)\n",
    "for label in ax.get_yticklabels():\n",
    "    label.set_fontproperties(ticks_font)\n",
    "\n",
    "ax.set_axis_bgcolor(axis_bgcolor)   \n",
    "ax.set_title('Most Visited Countries', fontproperties=title_font)\n",
    "ax.set_xlabel('')\n",
    "ax.set_ylabel('Number of GPS records', fontproperties=label_font)\n",
    "\n",
    "plt.show()"
   ]
  },
  {
   "cell_type": "markdown",
   "metadata": {},
   "source": [
    "Now you try: re-create the plot above, but make the bars orange with maroon edges."
   ]
  },
  {
   "cell_type": "code",
   "execution_count": null,
   "metadata": {},
   "outputs": [],
   "source": []
  },
  {
   "cell_type": "code",
   "execution_count": null,
   "metadata": {},
   "outputs": [],
   "source": [
    "# make a re-usable function to draw nice bar charts\n",
    "def bar_chart(data, title='', xlabel='', ylabel='', color='k', ylim=None):\n",
    "    \n",
    "    ax = data.plot(kind='bar', figsize=[9, 6], width=0.6, alpha=0.6, \n",
    "                   color=color, edgecolor='k', grid=False, ylim=ylim)\n",
    "\n",
    "    ax.set_xticklabels(data.index, rotation=45, rotation_mode='anchor', ha='right', fontproperties=ticks_font)\n",
    "    ax.yaxis.grid(True)\n",
    "    for label in ax.get_yticklabels():\n",
    "        label.set_fontproperties(ticks_font)\n",
    "\n",
    "    ax.set_axis_bgcolor(axis_bgcolor)   \n",
    "    ax.set_title(title, fontproperties=title_font)\n",
    "    ax.set_xlabel(xlabel, fontproperties=label_font)\n",
    "    ax.set_ylabel(ylabel, fontproperties=label_font)\n",
    "\n",
    "    plt.show()"
   ]
  },
  {
   "cell_type": "code",
   "execution_count": null,
   "metadata": {
    "collapsed": false,
    "jupyter": {
     "outputs_hidden": false
    }
   },
   "outputs": [],
   "source": [
    "# let's re-scale the data and use our new function\n",
    "log_countries = np.log(df['country'].value_counts())\n",
    "\n",
    "bar_chart(data=log_countries, \n",
    "          title='Most Visited Countries', \n",
    "          ylabel='Log of number of GPS records', \n",
    "          color='m', \n",
    "          ylim=[0,7])"
   ]
  },
  {
   "cell_type": "code",
   "execution_count": null,
   "metadata": {
    "collapsed": false,
    "jupyter": {
     "outputs_hidden": false
    }
   },
   "outputs": [],
   "source": [
    "# do the same thing, but now for the most visited cities instead of countries\n",
    "cities = df['city'].value_counts().head(13)\n",
    "cities"
   ]
  },
  {
   "cell_type": "code",
   "execution_count": null,
   "metadata": {
    "collapsed": false,
    "jupyter": {
     "outputs_hidden": false
    }
   },
   "outputs": [],
   "source": [
    "title = 'Most Visited Cities'\n",
    "ylabel = 'Number of GPS records'\n",
    "color = 'r'\n",
    "bar_chart(cities, title=title, ylabel=ylabel, color=color)"
   ]
  },
  {
   "cell_type": "markdown",
   "metadata": {},
   "source": [
    "Now you try: use our bar_chart() function to create a plot like the one above, but give it an x-axis label and use the cities' log values, like we did earlier for countries."
   ]
  },
  {
   "cell_type": "code",
   "execution_count": null,
   "metadata": {},
   "outputs": [],
   "source": []
  },
  {
   "cell_type": "markdown",
   "metadata": {},
   "source": [
    "## Next: scatter plots as simple maps"
   ]
  },
  {
   "cell_type": "code",
   "execution_count": null,
   "metadata": {
    "collapsed": false,
    "jupyter": {
     "outputs_hidden": false
    }
   },
   "outputs": [],
   "source": [
    "# scatter plot the longitude and latitude data, with matplotlib defaults\n",
    "rs.plot(kind='scatter', x='lon', y='lat')"
   ]
  },
  {
   "cell_type": "code",
   "execution_count": null,
   "metadata": {
    "collapsed": false,
    "jupyter": {
     "outputs_hidden": false
    }
   },
   "outputs": [],
   "source": [
    "# get a single representative point from the data set for each of the most visited cities\n",
    "most_visited_cities_index = df['city'].value_counts().head(8).index\n",
    "most_visited_cities = pd.DataFrame(df[df['city'].isin(most_visited_cities_index)])\n",
    "most_visited_cities.drop_duplicates(subset=['city'], keep='first', inplace=True)\n",
    "most_visited_cities"
   ]
  },
  {
   "cell_type": "code",
   "execution_count": null,
   "metadata": {
    "collapsed": false,
    "jupyter": {
     "outputs_hidden": false
    }
   },
   "outputs": [],
   "source": [
    "fig, ax = plt.subplots()\n",
    "fig.set_size_inches(10, 6)\n",
    "rs_scatter = ax.scatter(x=rs['lon'], y=rs['lat'], c='m', edgecolor='k', alpha=.4, s=150)\n",
    "\n",
    "# set font of tick labels\n",
    "for label in ax.get_xticklabels():\n",
    "    label.set_fontproperties(ticks_font)\n",
    "for label in ax.get_yticklabels():\n",
    "    label.set_fontproperties(ticks_font)\n",
    "\n",
    "# set title, axis labels, background color\n",
    "ax.set_title('Most Visited Cities', fontproperties=title_font)\n",
    "ax.set_xlabel('Longitude', fontproperties=label_font)\n",
    "ax.set_ylabel('Latitude', fontproperties=label_font)\n",
    "ax.set_axis_bgcolor(axis_bgcolor)\n",
    "\n",
    "# annotate each of the most visited cities on the map\n",
    "bbox_style = {'boxstyle':'round', 'color':'k', 'fc':'w', 'alpha':0.8}\n",
    "arrowprops_style = {'arrowstyle':'->', 'connectionstyle':'arc3,rad=0.5', 'color':'k', 'alpha':0.8}\n",
    "annotate_cities = lambda row: ax.annotate(row['city'], \n",
    "                                          xy=(row['lon'], row['lat']),\n",
    "                                          xytext=(row['lon'] + 1, row['lat'] + 1),\n",
    "                                          fontproperties=annotation_font,\n",
    "                                          bbox=bbox_style,\n",
    "                                          xycoords='data',\n",
    "                                          arrowprops=arrowprops_style)\n",
    "most_visited_cities.apply(annotate_cities, axis=1)\n",
    "    \n",
    "plt.show()"
   ]
  },
  {
   "cell_type": "markdown",
   "metadata": {},
   "source": [
    "Now you try: re-create the scatter plot above, but give the points a different size and alpha. Experiment with moving the annotation labels around and changing the arrow style."
   ]
  },
  {
   "cell_type": "code",
   "execution_count": null,
   "metadata": {},
   "outputs": [],
   "source": []
  },
  {
   "cell_type": "markdown",
   "metadata": {},
   "source": [
    "## Line charts, with annotation"
   ]
  },
  {
   "cell_type": "code",
   "execution_count": null,
   "metadata": {
    "collapsed": false,
    "jupyter": {
     "outputs_hidden": false
    }
   },
   "outputs": [],
   "source": [
    "# get the count of records by date\n",
    "countdata = df.groupby(df.index.date).size()\n",
    "countdata.head()"
   ]
  },
  {
   "cell_type": "code",
   "execution_count": null,
   "metadata": {
    "collapsed": false,
    "jupyter": {
     "outputs_hidden": false
    }
   },
   "outputs": [],
   "source": [
    "# default matplotlib line chart\n",
    "countdata.plot(kind='line')"
   ]
  },
  {
   "cell_type": "code",
   "execution_count": null,
   "metadata": {
    "collapsed": false,
    "jupyter": {
     "outputs_hidden": false
    }
   },
   "outputs": [],
   "source": [
    "# create a nicer line plot\n",
    "fig, ax = plt.subplots()\n",
    "ax = countdata.plot(kind='line',\n",
    "                    figsize=[10, 5],\n",
    "                    linewidth='3', \n",
    "                    alpha=0.5,\n",
    "                    marker='o',\n",
    "                    color='c')\n",
    "\n",
    "# add annotations for explanation\n",
    "ax.annotate('Left the EU', \n",
    "                 xy=('2014-06-20', 60),\n",
    "                 fontproperties=annotation_font,\n",
    "                 bbox=dict(boxstyle='round', color='k', fc='w', alpha=0.7),\n",
    "                 xycoords='data')\n",
    "\n",
    "ax.annotate('Had WiFi', \n",
    "                 xy=('2014-06-23', 40),\n",
    "                 fontproperties=annotation_font,\n",
    "                 bbox=dict(boxstyle='round', color='k', fc='w', alpha=0.7),\n",
    "                 xycoords='data')\n",
    "\n",
    "ax.annotate('Return to EU', \n",
    "                 xy=('2014-07-01', 53.5),\n",
    "                 fontproperties=annotation_font,\n",
    "                 bbox=dict(boxstyle='round', color='k', fc='w', alpha=0.7),\n",
    "                 xycoords='data')\n",
    "\n",
    "# set the x-ticks/labels for every nth row of the data: 1 tick mark per horizontal inch\n",
    "n = len(countdata) / int(fig.get_size_inches()[0]) #interval between tick marks\n",
    "xtick_data = countdata.iloc[range(0, len(countdata), 7)] #rows spaced apart by that interval (ie, weekly)\n",
    "ax.xaxis.set_ticks(xtick_data.index) #set the tick labels as the dates of those rows\n",
    "ax.set_xlim(['2014-05-13', '2014-07-10'])\n",
    "\n",
    "ax.xaxis.grid(True)\n",
    "ax.yaxis.grid(True)\n",
    "\n",
    "# set tick labels, axis labels, and title\n",
    "ax.set_xticklabels(xtick_data.index, rotation=35, rotation_mode='anchor', ha='right', fontproperties=ticks_font)\n",
    "for label in ax.get_yticklabels():\n",
    "    label.set_fontproperties(ticks_font)\n",
    "ax.set_title('Number of records in the data set, by date', fontproperties=title_font)\n",
    "ax.set_xlabel('', fontproperties=label_font)\n",
    "ax.set_ylabel('Number of GPS records', fontproperties=label_font)\n",
    "ax.set_axis_bgcolor(axis_bgcolor)\n",
    "\n",
    "plt.show()"
   ]
  },
  {
   "cell_type": "markdown",
   "metadata": {},
   "source": [
    "Now you try: re-create the plot above with different line widths, colors, and point markers. Play with moving the annotation labels around. Make the vertical tick marks 3 days apart instead of 5.\n",
    "\n",
    "After class, experiment with a more advanced challenge like smoothing the line:\n",
    "- https://stackoverflow.com/questions/5283649/plot-smooth-line-with-pyplot\n",
    "- https://stackoverflow.com/questions/25825946/generating-smooth-line-graph-using-matplotlib"
   ]
  },
  {
   "cell_type": "code",
   "execution_count": null,
   "metadata": {},
   "outputs": [],
   "source": []
  },
  {
   "cell_type": "markdown",
   "metadata": {},
   "source": [
    "## Pie charts"
   ]
  },
  {
   "cell_type": "code",
   "execution_count": null,
   "metadata": {
    "collapsed": false,
    "jupyter": {
     "outputs_hidden": false
    }
   },
   "outputs": [],
   "source": [
    "cities = df['city'].value_counts()\n",
    "print(cities.count())\n",
    "cities.head()"
   ]
  },
  {
   "cell_type": "code",
   "execution_count": null,
   "metadata": {
    "collapsed": false,
    "jupyter": {
     "outputs_hidden": false
    }
   },
   "outputs": [],
   "source": [
    "# draw a pie chart nightmare\n",
    "cities.plot(kind='pie')"
   ]
  },
  {
   "cell_type": "code",
   "execution_count": null,
   "metadata": {
    "collapsed": false,
    "jupyter": {
     "outputs_hidden": false
    }
   },
   "outputs": [],
   "source": [
    "# function to produce more beautiful pie charts with matplotlib\n",
    "def pie_chart(fractions, #values for the wedges\n",
    "              labels, #labels for the wedges\n",
    "              title = '', #title of the pie chart\n",
    "              cm_name = 'Pastel1', #name of the matplotlib colormap to use\n",
    "              autopct = lambda x: str(round(x, 1)) + '%', #format the value text on each pie wedge\n",
    "              labeldistance = 1.05, #where to place wedge labels in relation to pie wedges\n",
    "              shadow = True, #shadow around the pie\n",
    "              startangle = 90, #rotate 90 degrees to start the top of the data set on the top of the pie\n",
    "              edgecolor = 'w', #color of pie wedge edges\n",
    "              width = 8, #width of the figure in inches\n",
    "              height = 8, #height of the figure in inches\n",
    "              grouping_threshold = None, #group all wedges below this value into one 'all others' wedge\n",
    "              grouping_label = None): #what to label the grouped wedge\n",
    "    \n",
    "    # if the user passed a threshold value, group all fractions lower than it into one 'misc' pie wedge\n",
    "    if not grouping_threshold==None:\n",
    "        \n",
    "        # if user didn't pass a label, apply a default text\n",
    "        if grouping_label == None:\n",
    "            grouping_label = 'Others'\n",
    "\n",
    "        # select the rows greater than the cut-off value\n",
    "        row_mask = fractions > grouping_threshold\n",
    "        meets_threshold = fractions[row_mask]\n",
    "\n",
    "        # group all other rows below the cut-off value\n",
    "        all_others = pd.Series(fractions[~row_mask].sum())\n",
    "        all_others.index = [grouping_label]\n",
    "\n",
    "        # append the grouped row to the bottom of the rows to display\n",
    "        fractions = meets_threshold.append(all_others)\n",
    "        labels = fractions.index\n",
    "    \n",
    "    # get the color map then pull 1 color from it for each pie wedge we'll draw\n",
    "    color_map = cm.get_cmap(cm_name)\n",
    "    num_of_colors = len(fractions)\n",
    "    colors = color_map([x/float(num_of_colors) for x in range(num_of_colors)])\n",
    "    \n",
    "    # create the figure and an axis to plot on\n",
    "    fig, ax = plt.subplots(figsize=[width, height])\n",
    "    \n",
    "    # plot the pie\n",
    "    wedges = ax.pie(fractions, \n",
    "                    labels = labels, \n",
    "                    labeldistance = labeldistance,\n",
    "                    autopct = autopct,\n",
    "                    colors = colors,\n",
    "                    shadow = shadow, \n",
    "                    startangle = startangle)\n",
    "    \n",
    "    # change the edgecolor for each wedge\n",
    "    for wedge in wedges[0]:\n",
    "        wedge.set_edgecolor(edgecolor)\n",
    "    \n",
    "    # set the title and show the plot\n",
    "    ax.set_title(title, fontproperties=title_font)\n",
    "    plt.show()"
   ]
  },
  {
   "cell_type": "code",
   "execution_count": null,
   "metadata": {
    "collapsed": false,
    "jupyter": {
     "outputs_hidden": false
    }
   },
   "outputs": [],
   "source": [
    "cities = df['city'].value_counts()\n",
    "\n",
    "# test out our function\n",
    "pie_chart(fractions = cities,\n",
    "          labels = cities.index,\n",
    "          title = 'Cities, by share of records in data set',\n",
    "          grouping_threshold = 30,\n",
    "          grouping_label = 'All Other Cities')"
   ]
  },
  {
   "cell_type": "code",
   "execution_count": null,
   "metadata": {
    "collapsed": false,
    "jupyter": {
     "outputs_hidden": false
    }
   },
   "outputs": [],
   "source": [
    "countries = df['country'].value_counts()\n",
    "\n",
    "# convert the pie wedge percentage into its absolute value (instead of percent share)\n",
    "def my_autopct(pct):\n",
    "    total = sum(countries)\n",
    "    return int(round((pct * total) / 100.))\n",
    "\n",
    "# test out our function\n",
    "pie_chart(fractions = countries,\n",
    "          labels = countries.index,\n",
    "          title = 'Countries, by number of records in data set',\n",
    "          autopct=my_autopct,\n",
    "          grouping_threshold = 30,\n",
    "          grouping_label = 'All Other Countries')"
   ]
  }
 ],
 "metadata": {
  "celltoolbar": "Raw Cell Format",
  "kernelspec": {
   "display_name": "Python 3",
   "language": "python",
   "name": "python3"
  },
  "language_info": {
   "codemirror_mode": {
    "name": "ipython",
    "version": 3
   },
   "file_extension": ".py",
   "mimetype": "text/x-python",
   "name": "python",
   "nbconvert_exporter": "python",
   "pygments_lexer": "ipython3",
   "version": "3.8.6"
  }
 },
 "nbformat": 4,
 "nbformat_minor": 4
}
